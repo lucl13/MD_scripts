{
 "cells": [
  {
   "cell_type": "code",
   "execution_count": 10,
   "id": "873be9d5-7c02-4cfd-aefa-e2d71391a1a7",
   "metadata": {},
   "outputs": [
    {
     "name": "stdout",
     "output_type": "stream",
     "text": [
      "PyRosetta-4 2022 [Rosetta PyRosetta4.conda.linux.cxx11thread.serialization.CentOS.python310.Release 2022.35+release.6079c70fa16855c06a9c2070a7085bf619df3065 2022-08-31T18:05:32] retrieved from: http://www.pyrosetta.org\n",
      "(C) Copyright Rosetta Commons Member Institutions. Created in JHU by Sergey Lyskov and PyRosetta Team.\n"
     ]
    }
   ],
   "source": [
    "import pyrosetta\n",
    "import pyrosetta_help as ph\n",
    "\n",
    "no_optH = False \n",
    "\n",
    "ignore_unrecognized_res=False  \n",
    "\n",
    "load_PDB_components=False  \n",
    "ignore_waters=True \n",
    "\n",
    "extra_options= ph.make_option_string(no_optH=no_optH,\n",
    "                                  ex1=None,\n",
    "                                  ex2=None,\n",
    "                                  mute='all',\n",
    "                                  ignore_unrecognized_res=ignore_unrecognized_res,\n",
    "                                  load_PDB_components=load_PDB_components,\n",
    "                                  ignore_waters=ignore_waters)\n",
    "\n",
    "\n",
    "# capture to log\n",
    "logger = ph.configure_logger()\n",
    "pyrosetta.init(extra_options=extra_options)"
   ]
  },
  {
   "cell_type": "code",
   "execution_count": 2,
   "id": "7e2a3dcf-1945-48b0-980d-b4e231a07190",
   "metadata": {},
   "outputs": [],
   "source": [
    "template_pose = pyrosetta.pose_from_pdb('4xyj_17-763_C.clean.pdb')"
   ]
  },
  {
   "cell_type": "code",
   "execution_count": null,
   "id": "dd1bf9c3-58a5-48ab-9881-5a4baa73085f",
   "metadata": {},
   "outputs": [],
   "source": []
  },
  {
   "cell_type": "code",
   "execution_count": 15,
   "id": "886be51c-c6d4-4783-93e6-8244f375a5b8",
   "metadata": {},
   "outputs": [],
   "source": [
    "#  alphafold\n",
    "\n",
    "# uniprot = 'Q01813' #@param {type:\"string\"}\n",
    "# af_pose = ph.pose_from_alphafold2(uniprot)"
   ]
  },
  {
   "cell_type": "code",
   "execution_count": 16,
   "id": "e02adba5-c0e4-4eb2-823c-fc74711fc4f9",
   "metadata": {},
   "outputs": [
    {
     "data": {
      "text/plain": [
       "True"
      ]
     },
     "execution_count": 16,
     "metadata": {},
     "output_type": "execute_result"
    }
   ],
   "source": [
    "# steal from template\n",
    "\n",
    "af_pose = ph.pose_from_file('4xyj_17-763_A.clean.pdb')\n",
    "fragsets = ph.make_fragment_sets(af_pose)\n",
    "threaded, threader, threadites = ph.thread(target_sequence=af_pose.sequence(),\n",
    "                                  template_pose=template_pose,\n",
    "                                  fragment_sets=fragsets)\n",
    "ph.steal_ligands(template_pose, threaded)\n",
    "threaded.dump_pdb('threaded.pdb')"
   ]
  },
  {
   "cell_type": "code",
   "execution_count": null,
   "id": "1fffd082-c172-4b3b-b353-ca8a2fb0fe1c",
   "metadata": {},
   "outputs": [
    {
     "name": "stdout",
     "output_type": "stream",
     "text": [
      "Missing residue resnum start 1: 688,689,690,691,692,693\n"
     ]
    }
   ],
   "source": [
    "# relax the missing residues\n",
    "\n",
    "MISSING_RES = ','.join([str(af_pose.pdb_info().pdb2pose('A', i)) for i in range(704, 710)])\n",
    "print(f'Missing residue resnum start 1: {MISSING_RES}')\n",
    "\n",
    "res_selector = pyrosetta.rosetta.core.select.residue_selector.ResidueIndexSelector(MISSING_RES)\n",
    "sel_vector = res_selector.apply(threaded)\n",
    "\n",
    "scorefxn = pyrosetta.create_score_function(\"ref2015_cart\")\n",
    "\n",
    "cycles = 3\n",
    "movemap = pyrosetta.MoveMap()\n",
    "movemap.set_bb(allow_bb=sel_vector)\n",
    "movemap.set_chi(allow_chi=sel_vector)\n",
    "\n",
    "fastrelax = pyrosetta.rosetta.protocols.relax.FastRelax(scorefxn, cycles)\n",
    "fastrelax.set_movemap(movemap)\n",
    "#fastrelax.cartesian(True)\n",
    "fastrelax.apply(threaded)\n",
    "\n",
    "threaded.dump_pdb('threaded_relaxed.pdb')"
   ]
  },
  {
   "cell_type": "code",
   "execution_count": 18,
   "id": "171e463f-2884-47ea-93a0-0eab045e5388",
   "metadata": {},
   "outputs": [
    {
     "data": {
      "text/plain": [
       "'688,689,690,691,692,693'"
      ]
     },
     "execution_count": 18,
     "metadata": {},
     "output_type": "execute_result"
    }
   ],
   "source": []
  },
  {
   "cell_type": "code",
   "execution_count": 6,
   "id": "5744f696-3edd-4496-a0c3-ecf3e63502d8",
   "metadata": {},
   "outputs": [],
   "source": []
  },
  {
   "cell_type": "code",
   "execution_count": 7,
   "id": "2dfca61e-d051-4889-9b29-6ff260e99169",
   "metadata": {},
   "outputs": [],
   "source": []
  },
  {
   "cell_type": "code",
   "execution_count": 8,
   "id": "75bbf8e6-f475-44b9-98a8-d8f50b1c972d",
   "metadata": {},
   "outputs": [],
   "source": []
  },
  {
   "cell_type": "code",
   "execution_count": 9,
   "id": "0c20971d-a24e-4281-930a-89affd02be07",
   "metadata": {},
   "outputs": [
    {
     "data": {
      "text/plain": [
       "True"
      ]
     },
     "execution_count": 9,
     "metadata": {},
     "output_type": "execute_result"
    }
   ],
   "source": []
  },
  {
   "cell_type": "code",
   "execution_count": null,
   "id": "ebb82346-6a1e-4dd4-a012-9838582c7ae5",
   "metadata": {},
   "outputs": [],
   "source": []
  }
 ],
 "metadata": {
  "kernelspec": {
   "display_name": "Python 3 (ipykernel)",
   "language": "python",
   "name": "python3"
  },
  "language_info": {
   "codemirror_mode": {
    "name": "ipython",
    "version": 3
   },
   "file_extension": ".py",
   "mimetype": "text/x-python",
   "name": "python",
   "nbconvert_exporter": "python",
   "pygments_lexer": "ipython3",
   "version": "3.10.4"
  }
 },
 "nbformat": 4,
 "nbformat_minor": 5
}
