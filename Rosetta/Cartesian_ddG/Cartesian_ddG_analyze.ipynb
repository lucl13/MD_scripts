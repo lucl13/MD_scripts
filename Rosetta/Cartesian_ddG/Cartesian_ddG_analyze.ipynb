{
 "cells": [
  {
   "cell_type": "code",
   "execution_count": 152,
   "metadata": {},
   "outputs": [],
   "source": [
    "import os \n",
    "from glob import glob \n",
    "import pandas as pd \n",
    "import numpy as np "
   ]
  },
  {
   "cell_type": "code",
   "execution_count": 153,
   "metadata": {},
   "outputs": [],
   "source": [
    "def parse_line(raw_line, delimiter=' '):\n",
    "    line = []\n",
    "    for i in raw_line.strip().split(delimiter):\n",
    "        if i != '':\n",
    "            line.append(i)\n",
    "    return line\n"
   ]
  },
  {
   "cell_type": "code",
   "execution_count": 154,
   "metadata": {},
   "outputs": [],
   "source": [
    "def find_finished_jobs( output_folder ):\n",
    "    return_list = []\n",
    "    job_dirs = [ os.path.abspath(os.path.join(output_folder, d)) for d in os.listdir(output_folder) if os.path.isdir( os.path.join(output_folder, d) )]\n",
    "    for job_dir in job_dirs:\n",
    "        completed_struct_dirs = []\n",
    "        for potential_struct_dir in sorted([ os.path.abspath(os.path.join(job_dir, d)) for d in os.listdir(job_dir) if os.path.isdir( os.path.join(job_dir, d) )]):\n",
    "            completed_struct_dirs.append( potential_struct_dir )\n",
    "        return_list.append(job_dir)\n",
    "\n",
    "    return return_list"
   ]
  },
  {
   "cell_type": "code",
   "execution_count": 155,
   "metadata": {},
   "outputs": [],
   "source": [
    "def get_ddg(job):\n",
    "    ddg_file = glob(job + '/*ddg')[0]\n",
    "    case_name = os.path.basename(job)\n",
    "    with open(ddg_file) as f:\n",
    "        data = f.readlines()\n",
    "    for i,line in enumerate(data):\n",
    "        data[i] = parse_line(line)\n",
    "    round_num = int(len(data)/2)\n",
    "    MUT = float(data[round_num*2 -1][3])\n",
    "    WT = float(data[round_num - 1][3])\n",
    "    ddg = MUT -WT\n",
    "    return case_name, WT, MUT, ddg "
   ]
  },
  {
   "cell_type": "code",
   "execution_count": 156,
   "metadata": {},
   "outputs": [],
   "source": [
    "jobs = find_finished_jobs('./output_saturation')"
   ]
  },
  {
   "cell_type": "code",
   "execution_count": 157,
   "metadata": {},
   "outputs": [],
   "source": [
    "df = pd.DataFrame(columns=['case name', 'WT', 'MUT', 'ddG'])\n",
    "for job in jobs:\n",
    "    case_name, WT, MUT, ddg = get_ddg(job)\n",
    "    job_dict = {}\n",
    "    job_dict['case name'] = case_name\n",
    "    job_dict['WT'] = WT\n",
    "    job_dict['MUT'] = MUT\n",
    "    job_dict['ddG'] = ddg\n",
    "    df = df.append(job_dict,ignore_index=True)"
   ]
  },
  {
   "cell_type": "code",
   "execution_count": 149,
   "metadata": {},
   "outputs": [],
   "source": [
    "df = df.sort_values(['case name'])"
   ]
  },
  {
   "cell_type": "code",
   "execution_count": 151,
   "metadata": {},
   "outputs": [],
   "source": [
    "df.to_csv('summary_casename.csv')"
   ]
  },
  {
   "cell_type": "code",
   "execution_count": null,
   "metadata": {},
   "outputs": [],
   "source": []
  },
  {
   "cell_type": "code",
   "execution_count": null,
   "metadata": {},
   "outputs": [],
   "source": []
  }
 ],
 "metadata": {
  "interpreter": {
   "hash": "6e90b3392cbca0e32bd49139893d79d84437a08fe3fdc09f956fa0620cb6e1b4"
  },
  "kernelspec": {
   "display_name": "Python 3",
   "language": "python",
   "name": "python3"
  },
  "language_info": {
   "codemirror_mode": {
    "name": "ipython",
    "version": 3
   },
   "file_extension": ".py",
   "mimetype": "text/x-python",
   "name": "python",
   "nbconvert_exporter": "python",
   "pygments_lexer": "ipython3",
   "version": "3.7.6"
  }
 },
 "nbformat": 4,
 "nbformat_minor": 2
}
