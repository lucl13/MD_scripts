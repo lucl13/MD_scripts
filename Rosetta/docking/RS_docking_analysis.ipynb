{
 "cells": [
  {
   "cell_type": "code",
   "execution_count": 1,
   "metadata": {},
   "outputs": [
    {
     "name": "stderr",
     "output_type": "stream",
     "text": [
      "Warning: importing 'simtk.openmm' is deprecated.  Import 'openmm' instead.\n"
     ]
    }
   ],
   "source": [
    "import pyemma\n",
    "import mdtraj as md  \n",
    "import pandas as pd "
   ]
  },
  {
   "cell_type": "code",
   "execution_count": 60,
   "metadata": {},
   "outputs": [],
   "source": [
    "import subprocess"
   ]
  },
  {
   "cell_type": "code",
   "execution_count": 2,
   "metadata": {},
   "outputs": [],
   "source": [
    "import pyemma.coordinates as coor\n",
    "import pyemma.msm as msm\n",
    "import pyemma.plots as mplt"
   ]
  },
  {
   "cell_type": "code",
   "execution_count": 3,
   "metadata": {},
   "outputs": [],
   "source": [
    "import matplotlib\n",
    "import matplotlib.pyplot as plt\n",
    "import numpy as np\n",
    "%matplotlib inline"
   ]
  },
  {
   "cell_type": "code",
   "execution_count": 4,
   "metadata": {},
   "outputs": [],
   "source": [
    "from glob import glob "
   ]
  },
  {
   "cell_type": "code",
   "execution_count": 234,
   "metadata": {},
   "outputs": [],
   "source": [
    "params = {'legend.fontsize': 'medium',\n",
    "          'figure.figsize': (7, 10),\n",
    "         'axes.labelsize': 'xx-large',\n",
    "         'axes.titlesize':'xx-large',\n",
    "          'xtick.labelsize':'large',\n",
    "         'xtick.labelsize':'large',\n",
    "         'ytick.labelsize':'large',\n",
    "          'xtick.major.size':5,\n",
    "          'xtick.major.width':1,\n",
    "          'ytick.major.size':5,\n",
    "          'ytick.major.width':1,\n",
    "        'axes.linewidth':2}\n",
    "plt.rcParams.update(params)"
   ]
  },
  {
   "cell_type": "code",
   "execution_count": 181,
   "metadata": {},
   "outputs": [],
   "source": [
    "def px_color(Num):\n",
    "    a=pd.read_csv('~/.matplotlib/color.txt',header=None)\n",
    "    px_colors=['']\n",
    "    for i in range(0,len(a)):\n",
    "        px_colors.append(a.iloc[i,:])\n",
    "    aa=tuple(px_colors[Num])\n",
    "    return aa"
   ]
  },
  {
   "cell_type": "code",
   "execution_count": 5,
   "metadata": {},
   "outputs": [],
   "source": [
    "def parse_line(raw_line, delimiter=' '):\n",
    "    line = []\n",
    "    for i in raw_line.strip().split(delimiter):\n",
    "        if i != '':\n",
    "            line.append(i)\n",
    "    return line"
   ]
  },
  {
   "cell_type": "code",
   "execution_count": 11,
   "metadata": {},
   "outputs": [],
   "source": [
    "def score2df(score_file):\n",
    "    f = open(score_file)\n",
    "    raw_data = f.readlines()\n",
    "    f.close()\n",
    "    data = []\n",
    "    for i in raw_data[2:]:\n",
    "        line = parse_line(i)\n",
    "        data.append(line)\n",
    "    cols = parse_line(raw_data[1])\n",
    "    df = pd.DataFrame(data, columns=cols)\n",
    "    df.iloc[:,1:-1] = df.iloc[:,1:-1].astype(float)\n",
    "    return df"
   ]
  },
  {
   "cell_type": "code",
   "execution_count": 25,
   "metadata": {},
   "outputs": [],
   "source": [
    "df = score2df('../output_state2/score.sc')"
   ]
  },
  {
   "cell_type": "code",
   "execution_count": 28,
   "metadata": {},
   "outputs": [
    {
     "data": {
      "text/html": [
       "<div>\n",
       "<style scoped>\n",
       "    .dataframe tbody tr th:only-of-type {\n",
       "        vertical-align: middle;\n",
       "    }\n",
       "\n",
       "    .dataframe tbody tr th {\n",
       "        vertical-align: top;\n",
       "    }\n",
       "\n",
       "    .dataframe thead th {\n",
       "        text-align: right;\n",
       "    }\n",
       "</style>\n",
       "<table border=\"1\" class=\"dataframe\">\n",
       "  <thead>\n",
       "    <tr style=\"text-align: right;\">\n",
       "      <th></th>\n",
       "      <th>SCORE:</th>\n",
       "      <th>total_score</th>\n",
       "      <th>Grid_score</th>\n",
       "      <th>Transform_accept_ratio</th>\n",
       "      <th>angle_constraint</th>\n",
       "      <th>atom_pair_constraint</th>\n",
       "      <th>chainbreak</th>\n",
       "      <th>classic_grid_X</th>\n",
       "      <th>coordinate_constraint</th>\n",
       "      <th>dihedral_constraint</th>\n",
       "      <th>...</th>\n",
       "      <th>if_X_pro_close</th>\n",
       "      <th>if_X_ref</th>\n",
       "      <th>interface_delta_X</th>\n",
       "      <th>ligand_is_touching_X</th>\n",
       "      <th>omega</th>\n",
       "      <th>p_aa_pp</th>\n",
       "      <th>pro_close</th>\n",
       "      <th>ref</th>\n",
       "      <th>total_score_X</th>\n",
       "      <th>description</th>\n",
       "    </tr>\n",
       "  </thead>\n",
       "  <tbody>\n",
       "    <tr>\n",
       "      <th>35</th>\n",
       "      <td>SCORE:</td>\n",
       "      <td>-871.304</td>\n",
       "      <td>-22.0</td>\n",
       "      <td>0.729</td>\n",
       "      <td>0.0</td>\n",
       "      <td>0.0</td>\n",
       "      <td>0.0</td>\n",
       "      <td>-24.0</td>\n",
       "      <td>2.228</td>\n",
       "      <td>0.0</td>\n",
       "      <td>...</td>\n",
       "      <td>0.0</td>\n",
       "      <td>0.0</td>\n",
       "      <td>-12.104</td>\n",
       "      <td>1.0</td>\n",
       "      <td>256.869</td>\n",
       "      <td>-49.034</td>\n",
       "      <td>191.251</td>\n",
       "      <td>-86.47</td>\n",
       "      <td>-24.0</td>\n",
       "      <td>state2_ready_0036</td>\n",
       "    </tr>\n",
       "    <tr>\n",
       "      <th>979</th>\n",
       "      <td>SCORE:</td>\n",
       "      <td>-869.423</td>\n",
       "      <td>-24.0</td>\n",
       "      <td>0.701</td>\n",
       "      <td>0.0</td>\n",
       "      <td>0.0</td>\n",
       "      <td>0.0</td>\n",
       "      <td>-24.0</td>\n",
       "      <td>3.377</td>\n",
       "      <td>0.0</td>\n",
       "      <td>...</td>\n",
       "      <td>0.0</td>\n",
       "      <td>0.0</td>\n",
       "      <td>-7.188</td>\n",
       "      <td>1.0</td>\n",
       "      <td>255.49</td>\n",
       "      <td>-47.308</td>\n",
       "      <td>190.89</td>\n",
       "      <td>-86.47</td>\n",
       "      <td>-24.0</td>\n",
       "      <td>state2_ready_0980</td>\n",
       "    </tr>\n",
       "    <tr>\n",
       "      <th>820</th>\n",
       "      <td>SCORE:</td>\n",
       "      <td>-866.024</td>\n",
       "      <td>-21.0</td>\n",
       "      <td>0.73</td>\n",
       "      <td>0.0</td>\n",
       "      <td>0.0</td>\n",
       "      <td>0.0</td>\n",
       "      <td>-24.0</td>\n",
       "      <td>3.271</td>\n",
       "      <td>0.0</td>\n",
       "      <td>...</td>\n",
       "      <td>0.0</td>\n",
       "      <td>0.0</td>\n",
       "      <td>-7.48</td>\n",
       "      <td>1.0</td>\n",
       "      <td>254.381</td>\n",
       "      <td>-47.481</td>\n",
       "      <td>190.921</td>\n",
       "      <td>-86.47</td>\n",
       "      <td>-24.0</td>\n",
       "      <td>state2_ready_0821</td>\n",
       "    </tr>\n",
       "    <tr>\n",
       "      <th>588</th>\n",
       "      <td>SCORE:</td>\n",
       "      <td>-865.185</td>\n",
       "      <td>-23.0</td>\n",
       "      <td>0.719</td>\n",
       "      <td>0.0</td>\n",
       "      <td>0.0</td>\n",
       "      <td>0.0</td>\n",
       "      <td>-23.0</td>\n",
       "      <td>3.091</td>\n",
       "      <td>0.0</td>\n",
       "      <td>...</td>\n",
       "      <td>0.0</td>\n",
       "      <td>0.0</td>\n",
       "      <td>-9.453</td>\n",
       "      <td>1.0</td>\n",
       "      <td>255.9</td>\n",
       "      <td>-49.594</td>\n",
       "      <td>191.27</td>\n",
       "      <td>-86.47</td>\n",
       "      <td>-23.0</td>\n",
       "      <td>state2_ready_0589</td>\n",
       "    </tr>\n",
       "    <tr>\n",
       "      <th>992</th>\n",
       "      <td>SCORE:</td>\n",
       "      <td>-864.022</td>\n",
       "      <td>-23.0</td>\n",
       "      <td>0.722</td>\n",
       "      <td>0.0</td>\n",
       "      <td>0.0</td>\n",
       "      <td>0.0</td>\n",
       "      <td>-24.0</td>\n",
       "      <td>2.754</td>\n",
       "      <td>0.0</td>\n",
       "      <td>...</td>\n",
       "      <td>0.0</td>\n",
       "      <td>0.0</td>\n",
       "      <td>-7.502</td>\n",
       "      <td>1.0</td>\n",
       "      <td>255.47</td>\n",
       "      <td>-47.917</td>\n",
       "      <td>191.259</td>\n",
       "      <td>-86.47</td>\n",
       "      <td>-24.0</td>\n",
       "      <td>state2_ready_0993</td>\n",
       "    </tr>\n",
       "    <tr>\n",
       "      <th>...</th>\n",
       "      <td>...</td>\n",
       "      <td>...</td>\n",
       "      <td>...</td>\n",
       "      <td>...</td>\n",
       "      <td>...</td>\n",
       "      <td>...</td>\n",
       "      <td>...</td>\n",
       "      <td>...</td>\n",
       "      <td>...</td>\n",
       "      <td>...</td>\n",
       "      <td>...</td>\n",
       "      <td>...</td>\n",
       "      <td>...</td>\n",
       "      <td>...</td>\n",
       "      <td>...</td>\n",
       "      <td>...</td>\n",
       "      <td>...</td>\n",
       "      <td>...</td>\n",
       "      <td>...</td>\n",
       "      <td>...</td>\n",
       "      <td>...</td>\n",
       "    </tr>\n",
       "    <tr>\n",
       "      <th>742</th>\n",
       "      <td>SCORE:</td>\n",
       "      <td>-791.837</td>\n",
       "      <td>-20.0</td>\n",
       "      <td>0.725</td>\n",
       "      <td>0.0</td>\n",
       "      <td>0.0</td>\n",
       "      <td>0.0</td>\n",
       "      <td>-24.0</td>\n",
       "      <td>6.01</td>\n",
       "      <td>0.0</td>\n",
       "      <td>...</td>\n",
       "      <td>0.0</td>\n",
       "      <td>0.0</td>\n",
       "      <td>-1.007</td>\n",
       "      <td>1.0</td>\n",
       "      <td>257.293</td>\n",
       "      <td>-46.72</td>\n",
       "      <td>200.374</td>\n",
       "      <td>-86.47</td>\n",
       "      <td>-24.0</td>\n",
       "      <td>state2_ready_0743</td>\n",
       "    </tr>\n",
       "    <tr>\n",
       "      <th>153</th>\n",
       "      <td>SCORE:</td>\n",
       "      <td>-789.315</td>\n",
       "      <td>-20.0</td>\n",
       "      <td>0.718</td>\n",
       "      <td>0.0</td>\n",
       "      <td>0.0</td>\n",
       "      <td>0.0</td>\n",
       "      <td>-24.0</td>\n",
       "      <td>5.579</td>\n",
       "      <td>0.0</td>\n",
       "      <td>...</td>\n",
       "      <td>0.0</td>\n",
       "      <td>0.0</td>\n",
       "      <td>-6.573</td>\n",
       "      <td>1.0</td>\n",
       "      <td>257.859</td>\n",
       "      <td>-47.145</td>\n",
       "      <td>202.566</td>\n",
       "      <td>-86.47</td>\n",
       "      <td>-24.0</td>\n",
       "      <td>state2_ready_0154</td>\n",
       "    </tr>\n",
       "    <tr>\n",
       "      <th>833</th>\n",
       "      <td>SCORE:</td>\n",
       "      <td>-788.414</td>\n",
       "      <td>-19.0</td>\n",
       "      <td>0.72</td>\n",
       "      <td>0.0</td>\n",
       "      <td>0.0</td>\n",
       "      <td>0.0</td>\n",
       "      <td>-23.0</td>\n",
       "      <td>8.904</td>\n",
       "      <td>0.0</td>\n",
       "      <td>...</td>\n",
       "      <td>0.0</td>\n",
       "      <td>0.0</td>\n",
       "      <td>-8.082</td>\n",
       "      <td>1.0</td>\n",
       "      <td>261.391</td>\n",
       "      <td>-47.34</td>\n",
       "      <td>199.996</td>\n",
       "      <td>-86.47</td>\n",
       "      <td>-23.0</td>\n",
       "      <td>state2_ready_0834</td>\n",
       "    </tr>\n",
       "    <tr>\n",
       "      <th>612</th>\n",
       "      <td>SCORE:</td>\n",
       "      <td>-786.558</td>\n",
       "      <td>-17.0</td>\n",
       "      <td>0.711</td>\n",
       "      <td>0.0</td>\n",
       "      <td>0.0</td>\n",
       "      <td>0.0</td>\n",
       "      <td>-21.0</td>\n",
       "      <td>4.299</td>\n",
       "      <td>0.0</td>\n",
       "      <td>...</td>\n",
       "      <td>0.0</td>\n",
       "      <td>0.0</td>\n",
       "      <td>-6.924</td>\n",
       "      <td>1.0</td>\n",
       "      <td>258.471</td>\n",
       "      <td>-49.137</td>\n",
       "      <td>216.613</td>\n",
       "      <td>-86.47</td>\n",
       "      <td>-21.0</td>\n",
       "      <td>state2_ready_0613</td>\n",
       "    </tr>\n",
       "    <tr>\n",
       "      <th>819</th>\n",
       "      <td>SCORE:</td>\n",
       "      <td>-759.713</td>\n",
       "      <td>-23.0</td>\n",
       "      <td>0.722</td>\n",
       "      <td>0.0</td>\n",
       "      <td>0.0</td>\n",
       "      <td>0.0</td>\n",
       "      <td>-23.0</td>\n",
       "      <td>12.091</td>\n",
       "      <td>0.0</td>\n",
       "      <td>...</td>\n",
       "      <td>0.0</td>\n",
       "      <td>0.0</td>\n",
       "      <td>-6.119</td>\n",
       "      <td>1.0</td>\n",
       "      <td>257.469</td>\n",
       "      <td>-46.77</td>\n",
       "      <td>216.878</td>\n",
       "      <td>-86.47</td>\n",
       "      <td>-23.0</td>\n",
       "      <td>state2_ready_0820</td>\n",
       "    </tr>\n",
       "  </tbody>\n",
       "</table>\n",
       "<p>1000 rows × 55 columns</p>\n",
       "</div>"
      ],
      "text/plain": [
       "     SCORE: total_score Grid_score Transform_accept_ratio angle_constraint  \\\n",
       "35   SCORE:    -871.304      -22.0                  0.729              0.0   \n",
       "979  SCORE:    -869.423      -24.0                  0.701              0.0   \n",
       "820  SCORE:    -866.024      -21.0                   0.73              0.0   \n",
       "588  SCORE:    -865.185      -23.0                  0.719              0.0   \n",
       "992  SCORE:    -864.022      -23.0                  0.722              0.0   \n",
       "..      ...         ...        ...                    ...              ...   \n",
       "742  SCORE:    -791.837      -20.0                  0.725              0.0   \n",
       "153  SCORE:    -789.315      -20.0                  0.718              0.0   \n",
       "833  SCORE:    -788.414      -19.0                   0.72              0.0   \n",
       "612  SCORE:    -786.558      -17.0                  0.711              0.0   \n",
       "819  SCORE:    -759.713      -23.0                  0.722              0.0   \n",
       "\n",
       "    atom_pair_constraint chainbreak classic_grid_X coordinate_constraint  \\\n",
       "35                   0.0        0.0          -24.0                 2.228   \n",
       "979                  0.0        0.0          -24.0                 3.377   \n",
       "820                  0.0        0.0          -24.0                 3.271   \n",
       "588                  0.0        0.0          -23.0                 3.091   \n",
       "992                  0.0        0.0          -24.0                 2.754   \n",
       "..                   ...        ...            ...                   ...   \n",
       "742                  0.0        0.0          -24.0                  6.01   \n",
       "153                  0.0        0.0          -24.0                 5.579   \n",
       "833                  0.0        0.0          -23.0                 8.904   \n",
       "612                  0.0        0.0          -21.0                 4.299   \n",
       "819                  0.0        0.0          -23.0                12.091   \n",
       "\n",
       "    dihedral_constraint  ... if_X_pro_close if_X_ref interface_delta_X  \\\n",
       "35                  0.0  ...            0.0      0.0           -12.104   \n",
       "979                 0.0  ...            0.0      0.0            -7.188   \n",
       "820                 0.0  ...            0.0      0.0             -7.48   \n",
       "588                 0.0  ...            0.0      0.0            -9.453   \n",
       "992                 0.0  ...            0.0      0.0            -7.502   \n",
       "..                  ...  ...            ...      ...               ...   \n",
       "742                 0.0  ...            0.0      0.0            -1.007   \n",
       "153                 0.0  ...            0.0      0.0            -6.573   \n",
       "833                 0.0  ...            0.0      0.0            -8.082   \n",
       "612                 0.0  ...            0.0      0.0            -6.924   \n",
       "819                 0.0  ...            0.0      0.0            -6.119   \n",
       "\n",
       "    ligand_is_touching_X    omega p_aa_pp pro_close    ref total_score_X  \\\n",
       "35                   1.0  256.869 -49.034   191.251 -86.47         -24.0   \n",
       "979                  1.0   255.49 -47.308    190.89 -86.47         -24.0   \n",
       "820                  1.0  254.381 -47.481   190.921 -86.47         -24.0   \n",
       "588                  1.0    255.9 -49.594    191.27 -86.47         -23.0   \n",
       "992                  1.0   255.47 -47.917   191.259 -86.47         -24.0   \n",
       "..                   ...      ...     ...       ...    ...           ...   \n",
       "742                  1.0  257.293  -46.72   200.374 -86.47         -24.0   \n",
       "153                  1.0  257.859 -47.145   202.566 -86.47         -24.0   \n",
       "833                  1.0  261.391  -47.34   199.996 -86.47         -23.0   \n",
       "612                  1.0  258.471 -49.137   216.613 -86.47         -21.0   \n",
       "819                  1.0  257.469  -46.77   216.878 -86.47         -23.0   \n",
       "\n",
       "           description  \n",
       "35   state2_ready_0036  \n",
       "979  state2_ready_0980  \n",
       "820  state2_ready_0821  \n",
       "588  state2_ready_0589  \n",
       "992  state2_ready_0993  \n",
       "..                 ...  \n",
       "742  state2_ready_0743  \n",
       "153  state2_ready_0154  \n",
       "833  state2_ready_0834  \n",
       "612  state2_ready_0613  \n",
       "819  state2_ready_0820  \n",
       "\n",
       "[1000 rows x 55 columns]"
      ]
     },
     "execution_count": 28,
     "metadata": {},
     "output_type": "execute_result"
    }
   ],
   "source": [
    "df.sort_values('total_score')"
   ]
  },
  {
   "cell_type": "code",
   "execution_count": 154,
   "metadata": {},
   "outputs": [
    {
     "name": "stderr",
     "output_type": "stream",
     "text": [
      "Warning: importing 'simtk.openmm' is deprecated.  Import 'openmm' instead.\n",
      "Warning: 'topology' data from input file(s) will be discarded. output format only supports fields: 'xyz', 'time', 'step', 'box'\n"
     ]
    },
    {
     "name": "stdout",
     "output_type": "stream",
     "text": [
      "converted 1000 frames, 8097 atoms \n"
     ]
    },
    {
     "name": "stderr",
     "output_type": "stream",
     "text": [
      "Warning: importing 'simtk.openmm' is deprecated.  Import 'openmm' instead.\n",
      "Warning: 'topology' data from input file(s) will be discarded. output format only supports fields: 'xyz', 'time', 'step', 'box'\n"
     ]
    },
    {
     "name": "stdout",
     "output_type": "stream",
     "text": [
      "converted 1000 frames, 8097 atoms \n"
     ]
    }
   ],
   "source": [
    "# convert docking result to xtcfile\n",
    "import os.path\n",
    "\n",
    "def docking2xtc(output_dir):\n",
    "    if not os.path.isfile(f'{output_dir}/docking_merged.xtc'):\n",
    "        subprocess.run(f'mdconvert {output_dir}/*pdb -o {output_dir}/docking_merged.xtc', shell=True)\n",
    "    \n",
    "for i in range(0, 9):\n",
    "    output_dir = f'../output_state{i}'\n",
    "    docking2xtc(output_dir)\n",
    "    #print(output_dir)"
   ]
  },
  {
   "cell_type": "code",
   "execution_count": null,
   "metadata": {},
   "outputs": [],
   "source": []
  },
  {
   "cell_type": "code",
   "execution_count": 155,
   "metadata": {},
   "outputs": [],
   "source": [
    "#compute d1 for top200 structures\n",
    "def compute_d1(traj):\n",
    "    atom_1 = int(traj.topology.select('residue 225 and name OG'))\n",
    "    atom_2 = int(traj.topology.select('resname MHE and name C8'))\n",
    "    atom_pair = np.array([[atom_1, atom_2]])\n",
    "    d1 = md.compute_distances(traj,atom_pair)\n",
    "    return d1\n",
    "\n",
    "def compute_d2(traj):\n",
    "    atom_1 = int(traj.topology.select('residue 225 and name OG'))\n",
    "    atom_2 = int(traj.topology.select('residue 528 and name ND1'))\n",
    "    atom_pair = np.array([[atom_1, atom_2]])\n",
    "    d2 = md.compute_distances(traj,atom_pair)\n",
    "    return d2\n",
    "\n",
    "def compute_d3(traj):\n",
    "    atom_1 = int(traj.topology.select('residue 528 and name NE2'))\n",
    "    atom_2 = int(traj.topology.select('residue 492 and name OD1'))\n",
    "    atom_3 = int(traj.topology.select('residue 492 and name OD2'))\n",
    "    atom_pair = np.array([[atom_1, atom_2], [atom_1, atom_3]])\n",
    "    d3 = md.compute_distances(traj,atom_pair)\n",
    "    return np.minimum(d3[:,0], d3[:,1])\n",
    "\n",
    "d1s = []\n",
    "d2s = []\n",
    "d3s = []\n",
    "for i in range(0,9):\n",
    "    topfile = f'../output_state{i}/state{i}_ready_0001.pdb'\n",
    "    traj = md.load(f'../output_state{i}/docking_merged.xtc' ,top=topfile)\n",
    "    df = score2df(f'../output_state{i}/score.sc')\n",
    "    index = df.sort_values('total_score').index\n",
    "    d1_i = compute_d1(traj[index[:200]])\n",
    "    d1s.append(d1_i)\n",
    "    d2_i = compute_d2(traj[index[:200]])\n",
    "    d2s.append(d2_i)\n",
    "    d3_i = compute_d3(traj[index[:200]])\n",
    "    d3s.append(d3_i)"
   ]
  },
  {
   "cell_type": "code",
   "execution_count": 172,
   "metadata": {},
   "outputs": [
    {
     "data": {
      "text/plain": [
       "<AxesSubplot:>"
      ]
     },
     "execution_count": 172,
     "metadata": {},
     "output_type": "execute_result"
    }
   ],
   "source": [
    "ax.flatten()[i]"
   ]
  },
  {
   "cell_type": "code",
   "execution_count": 202,
   "metadata": {},
   "outputs": [],
   "source": [
    "cols = [f'MS{i+1}' for i in range(9)]"
   ]
  },
  {
   "cell_type": "code",
   "execution_count": 203,
   "metadata": {},
   "outputs": [
    {
     "data": {
      "text/plain": [
       "['MS1', 'MS2', 'MS3', 'MS4', 'MS5', 'MS6', 'MS7', 'MS8', 'MS9']"
      ]
     },
     "execution_count": 203,
     "metadata": {},
     "output_type": "execute_result"
    }
   ],
   "source": [
    "cols"
   ]
  },
  {
   "cell_type": "code",
   "execution_count": 213,
   "metadata": {},
   "outputs": [
    {
     "data": {
      "text/plain": [
       "0      0.754359\n",
       "1      0.585308\n",
       "2      0.640406\n",
       "3      0.501272\n",
       "4      0.712161\n",
       "         ...   \n",
       "195    0.530251\n",
       "196    0.449690\n",
       "197    0.556792\n",
       "198    0.485651\n",
       "199    0.328691\n",
       "Length: 200, dtype: float32"
      ]
     },
     "execution_count": 213,
     "metadata": {},
     "output_type": "execute_result"
    }
   ],
   "source": [
    "pd.Series(d1s[0].reshape(-1))"
   ]
  },
  {
   "cell_type": "code",
   "execution_count": 212,
   "metadata": {},
   "outputs": [
    {
     "data": {
      "text/plain": [
       "(200, 1)"
      ]
     },
     "execution_count": 212,
     "metadata": {},
     "output_type": "execute_result"
    }
   ],
   "source": [
    "d1s[0].shape()"
   ]
  },
  {
   "cell_type": "code",
   "execution_count": 214,
   "metadata": {},
   "outputs": [],
   "source": [
    "df = pd.DataFrame(columns=cols)\n",
    "for i in range(len(d1s)):\n",
    "    ser = pd.Series(d1s[i].reshape(-1))\n",
    "    df[cols[i]] = ser"
   ]
  },
  {
   "cell_type": "code",
   "execution_count": 175,
   "metadata": {},
   "outputs": [
    {
     "data": {
      "text/plain": [
       "Text(0.5, 1.0, 'aa')"
      ]
     },
     "execution_count": 175,
     "metadata": {},
     "output_type": "execute_result"
    }
   ],
   "source": [
    "ax_i.set_title('aa')"
   ]
  },
  {
   "cell_type": "code",
   "execution_count": 199,
   "metadata": {},
   "outputs": [
    {
     "data": {
      "text/plain": [
       "9"
      ]
     },
     "execution_count": 199,
     "metadata": {},
     "output_type": "execute_result"
    }
   ],
   "source": [
    "len(d1s)"
   ]
  },
  {
   "cell_type": "code",
   "execution_count": 235,
   "metadata": {},
   "outputs": [
    {
     "data": {
      "image/png": "[encoded data removed]",
      "text/plain": [
       "<Figure size 1800x504 with 1 Axes>"
      ]
     },
     "metadata": {
      "needs_background": "light"
     },
     "output_type": "display_data"
    }
   ],
   "source": [
    "fig, ax = plt.subplots(figsize=(25, 7))\n",
    "ax=sns.boxplot(data=df,width=0.3,fliersize=1,color=\"k\",linewidth=2) \n",
    "for i,mybox in enumerate(ax.artists):\n",
    "    mybox.set_alpha(1)\n",
    "    mybox.set_facecolor(px_color(204))\n",
    "\n",
    "plt.savefig('MS1-MS9_docking_d1_distribution_box.png', dpi=300)\n",
    "#$sns.boxplot(data=df, width=.6, palette=\"vlag\")\n",
    "#sns.despine(offset=10, trim=True)"
   ]
  },
  {
   "cell_type": "code",
   "execution_count": 237,
   "metadata": {},
   "outputs": [
    {
     "data": {
      "image/png": "[encoded data removed]",
      "text/plain": [
       "<Figure size 1800x504 with 1 Axes>"
      ]
     },
     "metadata": {
      "needs_background": "light"
     },
     "output_type": "display_data"
    }
   ],
   "source": [
    "fig, ax = plt.subplots(figsize=(25, 7))\n",
    "sns.violinplot(data=df, ax=ax)\n",
    "plt.savefig('MS1-MS9_docking_d1_distribution.png', dpi=300)"
   ]
  },
  {
   "cell_type": "code",
   "execution_count": 162,
   "metadata": {},
   "outputs": [],
   "source": [
    "# 根据以上docking score top200结构中d1的分布可以将MS1-MS9区分为活性状态和非活性状态\n",
    "# 活性状态 MS2, MS4, MS7, MS8\n",
    "# 非活性状态MS1, MS3, MS5, MS6, MS9"
   ]
  },
  {
   "cell_type": "code",
   "execution_count": 159,
   "metadata": {},
   "outputs": [
    {
     "data": {
      "image/png": "[encoded data removed]",
      "text/plain": [
       "<Figure size 720x360 with 9 Axes>"
      ]
     },
     "metadata": {
      "needs_background": "light"
     },
     "output_type": "display_data"
    }
   ],
   "source": [
    "fig,ax=plt.subplots(3,3, figsize=(10,5))\n",
    "for i in range(9):\n",
    "    sns.violinplot(y=d2s[i], ax=ax.flatten()[i])\n",
    "    ax.flatten()[i].set_ylim(0, 1.2)\n",
    "#plt.hist()"
   ]
  },
  {
   "cell_type": "code",
   "execution_count": 160,
   "metadata": {},
   "outputs": [
    {
     "data": {
      "image/png": "[encoded data removed]",
      "text/plain": [
       "<Figure size 720x360 with 9 Axes>"
      ]
     },
     "metadata": {
      "needs_background": "light"
     },
     "output_type": "display_data"
    }
   ],
   "source": [
    "fig,ax=plt.subplots(3,3, figsize=(10,5))\n",
    "for i in range(9):\n",
    "    sns.violinplot(y=d3s[i], ax=ax.flatten()[i])\n",
    "    ax.flatten()[i].set_ylim(0, 1.2)\n",
    "#plt.hist()"
   ]
  },
  {
   "cell_type": "code",
   "execution_count": 42,
   "metadata": {},
   "outputs": [
    {
     "data": {
      "text/plain": [
       "<mdtraj.Trajectory with 100 frames, 8097 atoms, 562 residues, without unitcells at 0x1a6fe3640>"
      ]
     },
     "execution_count": 42,
     "metadata": {},
     "output_type": "execute_result"
    }
   ],
   "source": [
    "traj[index[:100]]"
   ]
  },
  {
   "cell_type": "code",
   "execution_count": 129,
   "metadata": {},
   "outputs": [
    {
     "data": {
      "text/plain": [
       "array([[0.7543586 ],\n",
       "       [0.5853078 ],\n",
       "       [0.640406  ],\n",
       "       [0.50127214],\n",
       "       [0.7121609 ],\n",
       "       [0.44286665],\n",
       "       [0.7346298 ],\n",
       "       [0.6901977 ],\n",
       "       [0.3414281 ],\n",
       "       [0.6105629 ]], dtype=float32)"
      ]
     },
     "execution_count": 129,
     "metadata": {},
     "output_type": "execute_result"
    }
   ],
   "source": [
    "d1s[0][:10]"
   ]
  },
  {
   "cell_type": "code",
   "execution_count": 130,
   "metadata": {},
   "outputs": [
    {
     "data": {
      "text/plain": [
       "array([[0.7543586 ],\n",
       "       [0.5853078 ],\n",
       "       [0.640406  ],\n",
       "       [0.50127214],\n",
       "       [0.7121609 ],\n",
       "       [0.44286665],\n",
       "       [0.7346298 ],\n",
       "       [0.6901977 ],\n",
       "       [0.3414281 ],\n",
       "       [0.6105629 ]], dtype=float32)"
      ]
     },
     "execution_count": 130,
     "metadata": {},
     "output_type": "execute_result"
    }
   ],
   "source": [
    "d2s[0][:10]"
   ]
  },
  {
   "cell_type": "code",
   "execution_count": 32,
   "metadata": {},
   "outputs": [
    {
     "data": {
      "text/html": [
       "<div>\n",
       "<style scoped>\n",
       "    .dataframe tbody tr th:only-of-type {\n",
       "        vertical-align: middle;\n",
       "    }\n",
       "\n",
       "    .dataframe tbody tr th {\n",
       "        vertical-align: top;\n",
       "    }\n",
       "\n",
       "    .dataframe thead th {\n",
       "        text-align: right;\n",
       "    }\n",
       "</style>\n",
       "<table border=\"1\" class=\"dataframe\">\n",
       "  <thead>\n",
       "    <tr style=\"text-align: right;\">\n",
       "      <th></th>\n",
       "      <th>SCORE:</th>\n",
       "      <th>total_score</th>\n",
       "      <th>Grid_score</th>\n",
       "      <th>Transform_accept_ratio</th>\n",
       "      <th>angle_constraint</th>\n",
       "      <th>atom_pair_constraint</th>\n",
       "      <th>chainbreak</th>\n",
       "      <th>classic_grid_X</th>\n",
       "      <th>coordinate_constraint</th>\n",
       "      <th>dihedral_constraint</th>\n",
       "      <th>...</th>\n",
       "      <th>if_X_pro_close</th>\n",
       "      <th>if_X_ref</th>\n",
       "      <th>interface_delta_X</th>\n",
       "      <th>ligand_is_touching_X</th>\n",
       "      <th>omega</th>\n",
       "      <th>p_aa_pp</th>\n",
       "      <th>pro_close</th>\n",
       "      <th>ref</th>\n",
       "      <th>total_score_X</th>\n",
       "      <th>description</th>\n",
       "    </tr>\n",
       "  </thead>\n",
       "  <tbody>\n",
       "    <tr>\n",
       "      <th>35</th>\n",
       "      <td>SCORE:</td>\n",
       "      <td>-871.304</td>\n",
       "      <td>-22.0</td>\n",
       "      <td>0.729</td>\n",
       "      <td>0.0</td>\n",
       "      <td>0.0</td>\n",
       "      <td>0.0</td>\n",
       "      <td>-24.0</td>\n",
       "      <td>2.228</td>\n",
       "      <td>0.0</td>\n",
       "      <td>...</td>\n",
       "      <td>0.0</td>\n",
       "      <td>0.0</td>\n",
       "      <td>-12.104</td>\n",
       "      <td>1.0</td>\n",
       "      <td>256.869</td>\n",
       "      <td>-49.034</td>\n",
       "      <td>191.251</td>\n",
       "      <td>-86.47</td>\n",
       "      <td>-24.0</td>\n",
       "      <td>state2_ready_0036</td>\n",
       "    </tr>\n",
       "    <tr>\n",
       "      <th>979</th>\n",
       "      <td>SCORE:</td>\n",
       "      <td>-869.423</td>\n",
       "      <td>-24.0</td>\n",
       "      <td>0.701</td>\n",
       "      <td>0.0</td>\n",
       "      <td>0.0</td>\n",
       "      <td>0.0</td>\n",
       "      <td>-24.0</td>\n",
       "      <td>3.377</td>\n",
       "      <td>0.0</td>\n",
       "      <td>...</td>\n",
       "      <td>0.0</td>\n",
       "      <td>0.0</td>\n",
       "      <td>-7.188</td>\n",
       "      <td>1.0</td>\n",
       "      <td>255.49</td>\n",
       "      <td>-47.308</td>\n",
       "      <td>190.89</td>\n",
       "      <td>-86.47</td>\n",
       "      <td>-24.0</td>\n",
       "      <td>state2_ready_0980</td>\n",
       "    </tr>\n",
       "    <tr>\n",
       "      <th>820</th>\n",
       "      <td>SCORE:</td>\n",
       "      <td>-866.024</td>\n",
       "      <td>-21.0</td>\n",
       "      <td>0.73</td>\n",
       "      <td>0.0</td>\n",
       "      <td>0.0</td>\n",
       "      <td>0.0</td>\n",
       "      <td>-24.0</td>\n",
       "      <td>3.271</td>\n",
       "      <td>0.0</td>\n",
       "      <td>...</td>\n",
       "      <td>0.0</td>\n",
       "      <td>0.0</td>\n",
       "      <td>-7.48</td>\n",
       "      <td>1.0</td>\n",
       "      <td>254.381</td>\n",
       "      <td>-47.481</td>\n",
       "      <td>190.921</td>\n",
       "      <td>-86.47</td>\n",
       "      <td>-24.0</td>\n",
       "      <td>state2_ready_0821</td>\n",
       "    </tr>\n",
       "    <tr>\n",
       "      <th>588</th>\n",
       "      <td>SCORE:</td>\n",
       "      <td>-865.185</td>\n",
       "      <td>-23.0</td>\n",
       "      <td>0.719</td>\n",
       "      <td>0.0</td>\n",
       "      <td>0.0</td>\n",
       "      <td>0.0</td>\n",
       "      <td>-23.0</td>\n",
       "      <td>3.091</td>\n",
       "      <td>0.0</td>\n",
       "      <td>...</td>\n",
       "      <td>0.0</td>\n",
       "      <td>0.0</td>\n",
       "      <td>-9.453</td>\n",
       "      <td>1.0</td>\n",
       "      <td>255.9</td>\n",
       "      <td>-49.594</td>\n",
       "      <td>191.27</td>\n",
       "      <td>-86.47</td>\n",
       "      <td>-23.0</td>\n",
       "      <td>state2_ready_0589</td>\n",
       "    </tr>\n",
       "    <tr>\n",
       "      <th>992</th>\n",
       "      <td>SCORE:</td>\n",
       "      <td>-864.022</td>\n",
       "      <td>-23.0</td>\n",
       "      <td>0.722</td>\n",
       "      <td>0.0</td>\n",
       "      <td>0.0</td>\n",
       "      <td>0.0</td>\n",
       "      <td>-24.0</td>\n",
       "      <td>2.754</td>\n",
       "      <td>0.0</td>\n",
       "      <td>...</td>\n",
       "      <td>0.0</td>\n",
       "      <td>0.0</td>\n",
       "      <td>-7.502</td>\n",
       "      <td>1.0</td>\n",
       "      <td>255.47</td>\n",
       "      <td>-47.917</td>\n",
       "      <td>191.259</td>\n",
       "      <td>-86.47</td>\n",
       "      <td>-24.0</td>\n",
       "      <td>state2_ready_0993</td>\n",
       "    </tr>\n",
       "    <tr>\n",
       "      <th>...</th>\n",
       "      <td>...</td>\n",
       "      <td>...</td>\n",
       "      <td>...</td>\n",
       "      <td>...</td>\n",
       "      <td>...</td>\n",
       "      <td>...</td>\n",
       "      <td>...</td>\n",
       "      <td>...</td>\n",
       "      <td>...</td>\n",
       "      <td>...</td>\n",
       "      <td>...</td>\n",
       "      <td>...</td>\n",
       "      <td>...</td>\n",
       "      <td>...</td>\n",
       "      <td>...</td>\n",
       "      <td>...</td>\n",
       "      <td>...</td>\n",
       "      <td>...</td>\n",
       "      <td>...</td>\n",
       "      <td>...</td>\n",
       "      <td>...</td>\n",
       "    </tr>\n",
       "    <tr>\n",
       "      <th>742</th>\n",
       "      <td>SCORE:</td>\n",
       "      <td>-791.837</td>\n",
       "      <td>-20.0</td>\n",
       "      <td>0.725</td>\n",
       "      <td>0.0</td>\n",
       "      <td>0.0</td>\n",
       "      <td>0.0</td>\n",
       "      <td>-24.0</td>\n",
       "      <td>6.01</td>\n",
       "      <td>0.0</td>\n",
       "      <td>...</td>\n",
       "      <td>0.0</td>\n",
       "      <td>0.0</td>\n",
       "      <td>-1.007</td>\n",
       "      <td>1.0</td>\n",
       "      <td>257.293</td>\n",
       "      <td>-46.72</td>\n",
       "      <td>200.374</td>\n",
       "      <td>-86.47</td>\n",
       "      <td>-24.0</td>\n",
       "      <td>state2_ready_0743</td>\n",
       "    </tr>\n",
       "    <tr>\n",
       "      <th>153</th>\n",
       "      <td>SCORE:</td>\n",
       "      <td>-789.315</td>\n",
       "      <td>-20.0</td>\n",
       "      <td>0.718</td>\n",
       "      <td>0.0</td>\n",
       "      <td>0.0</td>\n",
       "      <td>0.0</td>\n",
       "      <td>-24.0</td>\n",
       "      <td>5.579</td>\n",
       "      <td>0.0</td>\n",
       "      <td>...</td>\n",
       "      <td>0.0</td>\n",
       "      <td>0.0</td>\n",
       "      <td>-6.573</td>\n",
       "      <td>1.0</td>\n",
       "      <td>257.859</td>\n",
       "      <td>-47.145</td>\n",
       "      <td>202.566</td>\n",
       "      <td>-86.47</td>\n",
       "      <td>-24.0</td>\n",
       "      <td>state2_ready_0154</td>\n",
       "    </tr>\n",
       "    <tr>\n",
       "      <th>833</th>\n",
       "      <td>SCORE:</td>\n",
       "      <td>-788.414</td>\n",
       "      <td>-19.0</td>\n",
       "      <td>0.72</td>\n",
       "      <td>0.0</td>\n",
       "      <td>0.0</td>\n",
       "      <td>0.0</td>\n",
       "      <td>-23.0</td>\n",
       "      <td>8.904</td>\n",
       "      <td>0.0</td>\n",
       "      <td>...</td>\n",
       "      <td>0.0</td>\n",
       "      <td>0.0</td>\n",
       "      <td>-8.082</td>\n",
       "      <td>1.0</td>\n",
       "      <td>261.391</td>\n",
       "      <td>-47.34</td>\n",
       "      <td>199.996</td>\n",
       "      <td>-86.47</td>\n",
       "      <td>-23.0</td>\n",
       "      <td>state2_ready_0834</td>\n",
       "    </tr>\n",
       "    <tr>\n",
       "      <th>612</th>\n",
       "      <td>SCORE:</td>\n",
       "      <td>-786.558</td>\n",
       "      <td>-17.0</td>\n",
       "      <td>0.711</td>\n",
       "      <td>0.0</td>\n",
       "      <td>0.0</td>\n",
       "      <td>0.0</td>\n",
       "      <td>-21.0</td>\n",
       "      <td>4.299</td>\n",
       "      <td>0.0</td>\n",
       "      <td>...</td>\n",
       "      <td>0.0</td>\n",
       "      <td>0.0</td>\n",
       "      <td>-6.924</td>\n",
       "      <td>1.0</td>\n",
       "      <td>258.471</td>\n",
       "      <td>-49.137</td>\n",
       "      <td>216.613</td>\n",
       "      <td>-86.47</td>\n",
       "      <td>-21.0</td>\n",
       "      <td>state2_ready_0613</td>\n",
       "    </tr>\n",
       "    <tr>\n",
       "      <th>819</th>\n",
       "      <td>SCORE:</td>\n",
       "      <td>-759.713</td>\n",
       "      <td>-23.0</td>\n",
       "      <td>0.722</td>\n",
       "      <td>0.0</td>\n",
       "      <td>0.0</td>\n",
       "      <td>0.0</td>\n",
       "      <td>-23.0</td>\n",
       "      <td>12.091</td>\n",
       "      <td>0.0</td>\n",
       "      <td>...</td>\n",
       "      <td>0.0</td>\n",
       "      <td>0.0</td>\n",
       "      <td>-6.119</td>\n",
       "      <td>1.0</td>\n",
       "      <td>257.469</td>\n",
       "      <td>-46.77</td>\n",
       "      <td>216.878</td>\n",
       "      <td>-86.47</td>\n",
       "      <td>-23.0</td>\n",
       "      <td>state2_ready_0820</td>\n",
       "    </tr>\n",
       "  </tbody>\n",
       "</table>\n",
       "<p>1000 rows × 55 columns</p>\n",
       "</div>"
      ],
      "text/plain": [
       "     SCORE: total_score Grid_score Transform_accept_ratio angle_constraint  \\\n",
       "35   SCORE:    -871.304      -22.0                  0.729              0.0   \n",
       "979  SCORE:    -869.423      -24.0                  0.701              0.0   \n",
       "820  SCORE:    -866.024      -21.0                   0.73              0.0   \n",
       "588  SCORE:    -865.185      -23.0                  0.719              0.0   \n",
       "992  SCORE:    -864.022      -23.0                  0.722              0.0   \n",
       "..      ...         ...        ...                    ...              ...   \n",
       "742  SCORE:    -791.837      -20.0                  0.725              0.0   \n",
       "153  SCORE:    -789.315      -20.0                  0.718              0.0   \n",
       "833  SCORE:    -788.414      -19.0                   0.72              0.0   \n",
       "612  SCORE:    -786.558      -17.0                  0.711              0.0   \n",
       "819  SCORE:    -759.713      -23.0                  0.722              0.0   \n",
       "\n",
       "    atom_pair_constraint chainbreak classic_grid_X coordinate_constraint  \\\n",
       "35                   0.0        0.0          -24.0                 2.228   \n",
       "979                  0.0        0.0          -24.0                 3.377   \n",
       "820                  0.0        0.0          -24.0                 3.271   \n",
       "588                  0.0        0.0          -23.0                 3.091   \n",
       "992                  0.0        0.0          -24.0                 2.754   \n",
       "..                   ...        ...            ...                   ...   \n",
       "742                  0.0        0.0          -24.0                  6.01   \n",
       "153                  0.0        0.0          -24.0                 5.579   \n",
       "833                  0.0        0.0          -23.0                 8.904   \n",
       "612                  0.0        0.0          -21.0                 4.299   \n",
       "819                  0.0        0.0          -23.0                12.091   \n",
       "\n",
       "    dihedral_constraint  ... if_X_pro_close if_X_ref interface_delta_X  \\\n",
       "35                  0.0  ...            0.0      0.0           -12.104   \n",
       "979                 0.0  ...            0.0      0.0            -7.188   \n",
       "820                 0.0  ...            0.0      0.0             -7.48   \n",
       "588                 0.0  ...            0.0      0.0            -9.453   \n",
       "992                 0.0  ...            0.0      0.0            -7.502   \n",
       "..                  ...  ...            ...      ...               ...   \n",
       "742                 0.0  ...            0.0      0.0            -1.007   \n",
       "153                 0.0  ...            0.0      0.0            -6.573   \n",
       "833                 0.0  ...            0.0      0.0            -8.082   \n",
       "612                 0.0  ...            0.0      0.0            -6.924   \n",
       "819                 0.0  ...            0.0      0.0            -6.119   \n",
       "\n",
       "    ligand_is_touching_X    omega p_aa_pp pro_close    ref total_score_X  \\\n",
       "35                   1.0  256.869 -49.034   191.251 -86.47         -24.0   \n",
       "979                  1.0   255.49 -47.308    190.89 -86.47         -24.0   \n",
       "820                  1.0  254.381 -47.481   190.921 -86.47         -24.0   \n",
       "588                  1.0    255.9 -49.594    191.27 -86.47         -23.0   \n",
       "992                  1.0   255.47 -47.917   191.259 -86.47         -24.0   \n",
       "..                   ...      ...     ...       ...    ...           ...   \n",
       "742                  1.0  257.293  -46.72   200.374 -86.47         -24.0   \n",
       "153                  1.0  257.859 -47.145   202.566 -86.47         -24.0   \n",
       "833                  1.0  261.391  -47.34   199.996 -86.47         -23.0   \n",
       "612                  1.0  258.471 -49.137   216.613 -86.47         -21.0   \n",
       "819                  1.0  257.469  -46.77   216.878 -86.47         -23.0   \n",
       "\n",
       "           description  \n",
       "35   state2_ready_0036  \n",
       "979  state2_ready_0980  \n",
       "820  state2_ready_0821  \n",
       "588  state2_ready_0589  \n",
       "992  state2_ready_0993  \n",
       "..                 ...  \n",
       "742  state2_ready_0743  \n",
       "153  state2_ready_0154  \n",
       "833  state2_ready_0834  \n",
       "612  state2_ready_0613  \n",
       "819  state2_ready_0820  \n",
       "\n",
       "[1000 rows x 55 columns]"
      ]
     },
     "execution_count": 32,
     "metadata": {},
     "output_type": "execute_result"
    }
   ],
   "source": [
    "df.sort_values('total_score')"
   ]
  },
  {
   "cell_type": "code",
   "execution_count": 7,
   "metadata": {},
   "outputs": [],
   "source": [
    "pdb_list = glob('*pdb')\n",
    "pdb_list.sort()"
   ]
  },
  {
   "cell_type": "code",
   "execution_count": 8,
   "metadata": {},
   "outputs": [],
   "source": [
    "traj = md.load('merged.xtc', top='5bwf_A_RDD_00001.pdb') "
   ]
  },
  {
   "cell_type": "code",
   "execution_count": 22,
   "metadata": {},
   "outputs": [],
   "source": [
    "traj.topology.select('resid 3')"
   ]
  },
  {
   "cell_type": "code",
   "execution_count": 32,
   "metadata": {},
   "outputs": [
    {
     "data": {
      "text/plain": [
       "array([7443])"
      ]
     },
     "execution_count": 32,
     "metadata": {},
     "output_type": "execute_result"
    }
   ],
   "source": [
    "traj.topology.select('resname RDD and name O25')"
   ]
  },
  {
   "cell_type": "code",
   "execution_count": 37,
   "metadata": {},
   "outputs": [
    {
     "data": {
      "text/plain": [
       "array([2695])"
      ]
     },
     "execution_count": 37,
     "metadata": {},
     "output_type": "execute_result"
    }
   ],
   "source": [
    "traj.topology.select('residue 172 and name OE1')"
   ]
  },
  {
   "cell_type": "code",
   "execution_count": 38,
   "metadata": {},
   "outputs": [
    {
     "data": {
      "text/plain": [
       "array([2696])"
      ]
     },
     "execution_count": 38,
     "metadata": {},
     "output_type": "execute_result"
    }
   ],
   "source": [
    "traj.topology.select('residue 172 and name OE2')"
   ]
  },
  {
   "cell_type": "code",
   "execution_count": 39,
   "metadata": {},
   "outputs": [
    {
     "data": {
      "text/plain": [
       "array([5835])"
      ]
     },
     "execution_count": 39,
     "metadata": {},
     "output_type": "execute_result"
    }
   ],
   "source": [
    "traj.topology.select('residue 373 and name OE1')"
   ]
  },
  {
   "cell_type": "code",
   "execution_count": 40,
   "metadata": {},
   "outputs": [],
   "source": [
    "dis = md.compute_distances(traj, [[7443,2695], [7443, 5835]])"
   ]
  },
  {
   "cell_type": "code",
   "execution_count": null,
   "metadata": {},
   "outputs": [],
   "source": []
  },
  {
   "cell_type": "code",
   "execution_count": 41,
   "metadata": {},
   "outputs": [
    {
     "data": {
      "text/plain": [
       "array([1.5063044 , 1.2524233 , 1.4141494 , ..., 0.70625556, 1.4874036 ,\n",
       "       1.5940154 ], dtype=float32)"
      ]
     },
     "execution_count": 41,
     "metadata": {},
     "output_type": "execute_result"
    }
   ],
   "source": [
    "dis[:,0]"
   ]
  },
  {
   "cell_type": "code",
   "execution_count": 42,
   "metadata": {},
   "outputs": [
    {
     "data": {
      "text/plain": [
       "(0.0, 4.0)"
      ]
     },
     "execution_count": 42,
     "metadata": {},
     "output_type": "execute_result"
    },
    {
     "data": {
      "image/png": "[encoded data removed]",
      "text/plain": [
       "<Figure size 432x288 with 2 Axes>"
      ]
     },
     "metadata": {
      "needs_background": "light"
     },
     "output_type": "display_data"
    }
   ],
   "source": [
    "mplt.plot_free_energy(dis[:,0], dis[:,1])\n",
    "plt.xlim(0,4)\n",
    "plt.ylim(0,4)"
   ]
  },
  {
   "cell_type": "code",
   "execution_count": 43,
   "metadata": {},
   "outputs": [
    {
     "data": {
      "text/plain": [
       "<matplotlib.collections.PathCollection at 0x1a42981f0>"
      ]
     },
     "execution_count": 43,
     "metadata": {},
     "output_type": "execute_result"
    },
    {
     "data": {
      "image/png": "[encoded data removed]",
      "text/plain": [
       "<Figure size 432x288 with 1 Axes>"
      ]
     },
     "metadata": {
      "needs_background": "light"
     },
     "output_type": "display_data"
    }
   ],
   "source": [
    "plt.scatter(range(traj.n_frames), dis[:,1])"
   ]
  },
  {
   "cell_type": "code",
   "execution_count": 48,
   "metadata": {},
   "outputs": [],
   "source": [
    "binding_frames = []\n",
    "for i in range(traj.n_frames):\n",
    "    if dis[:,0][i] < 0.8 and dis[:,1][i] < 0.5:\n",
    "        binding_frames.append(i)"
   ]
  },
  {
   "cell_type": "code",
   "execution_count": 49,
   "metadata": {},
   "outputs": [],
   "source": [
    "t = traj[binding_frames]"
   ]
  },
  {
   "cell_type": "code",
   "execution_count": 50,
   "metadata": {},
   "outputs": [],
   "source": [
    "t.save_xtc('binding.xtc')"
   ]
  },
  {
   "cell_type": "code",
   "execution_count": 51,
   "metadata": {},
   "outputs": [
    {
     "name": "stdout",
     "output_type": "stream",
     "text": [
      "5bwf_A_RDD_00187.pdb 0.55 0.49 27.149\n",
      "5bwf_A_RDD_00233.pdb 0.55 0.38 677.861\n",
      "5bwf_A_RDD_00400.pdb 0.35 0.45 45.497\n",
      "5bwf_A_RDD_01381.pdb 0.32 0.38 79.965\n",
      "5bwf_A_RDD_01881.pdb 0.62 0.41 59.849\n",
      "5bwf_A_RDD_02223.pdb 0.57 0.30 238.926\n",
      "5bwf_A_RDD_02908.pdb 0.56 0.43 108.650\n",
      "5bwf_A_RDD_03416.pdb 0.40 0.44 2347.578\n",
      "5bwf_A_RDD_0475.pdb 0.61 0.42 28.233\n"
     ]
    }
   ],
   "source": [
    "for i in binding_frames:\n",
    "    print(pdb_list[i], f'{dis[i,0]:.2f}', f'{dis[i,1]:.2f}', get_energy(pdb_list[i][:-4], 47))"
   ]
  },
  {
   "cell_type": "code",
   "execution_count": 52,
   "metadata": {},
   "outputs": [
    {
     "data": {
      "text/plain": [
       "'5bwf_A_RDD_0475.pdb'"
      ]
     },
     "execution_count": 52,
     "metadata": {},
     "output_type": "execute_result"
    }
   ],
   "source": [
    "pdb_list[i]"
   ]
  },
  {
   "cell_type": "code",
   "execution_count": null,
   "metadata": {},
   "outputs": [],
   "source": []
  }
 ],
 "metadata": {
  "kernelspec": {
   "display_name": "Python 3 (ipykernel)",
   "language": "python",
   "name": "python3"
  },
  "language_info": {
   "codemirror_mode": {
    "name": "ipython",
    "version": 3
   },
   "file_extension": ".py",
   "mimetype": "text/x-python",
   "name": "python",
   "nbconvert_exporter": "python",
   "pygments_lexer": "ipython3",
   "version": "3.9.7"
  }
 },
 "nbformat": 4,
 "nbformat_minor": 4
}
