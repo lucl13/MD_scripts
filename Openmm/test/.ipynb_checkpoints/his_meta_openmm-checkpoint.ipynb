{
 "cells": [
  {
   "cell_type": "code",
   "execution_count": 1,
   "id": "3c013ec4",
   "metadata": {},
   "outputs": [
    {
     "name": "stderr",
     "output_type": "stream",
     "text": [
      "Warning: importing 'simtk.openmm' is deprecated.  Import 'openmm' instead.\n"
     ]
    }
   ],
   "source": [
    "from his_meta_openmm import *"
   ]
  },
  {
   "cell_type": "code",
   "execution_count": 27,
   "id": "c51456c5",
   "metadata": {},
   "outputs": [],
   "source": [
    "class HisMetadynamics(GMXSimulation):\n",
    "    def __init__(self, gro_file, top_file, subset=None,\n",
    "             temperature=300*u.kelvin, pressure=1.0*u.atmosphere,\n",
    "             timestep=2.0*u.femtosecond,\n",
    "             time_per_frame=50*u.picosecond,\n",
    "             residue=168, biasFactor=1.5, height=1.0*u.kilojoule_per_mole, frequency=100,\n",
    "             output_basename=None, output_index=None):\n",
    "        \n",
    "        \n",
    "        GMXSimulation.__init__(self,gro_file=gro_file,\n",
    "        top_file=top_file,\n",
    "        subset=subset,\n",
    "        temperature=temperature,\n",
    "        pressure=pressure,\n",
    "        timestep=timestep,\n",
    "        time_per_frame=time_per_frame,\n",
    "        output_index=output_index,\n",
    "        output_basename=name)\n",
    "        \n",
    "        \n",
    "        self.residue = residue       \n",
    "        self.biasFactor = biasFactor\n",
    "        self.height = height\n",
    "        self.frequency = frequency\n",
    "        \n",
    "\n",
    "        self.create_meta()\n",
    "        \n",
    "        \n",
    "        \n",
    "    def run_meta(self, time):\n",
    "    \n",
    "    \n",
    "        integrator = build_integrator(self.temperature, self.timestep)\n",
    "        self.simulation_meta = build_simulation(self.top, self.system_meta,integrator)\n",
    "        \n",
    "        # simulation time\n",
    "        n_steps_per_frame = 2500 # 2fs/step\n",
    "        n_steps = int(time / (2*u.femtoseconds)) + 1\n",
    "        \n",
    "        prog_reporter = parmed.openmm.ProgressReporter(\n",
    "           f=f\"{self.output_name}_meta_His{self.residue}.progress\",\n",
    "           reportInterval=n_steps_per_frame,\n",
    "           totalSteps=n_steps,\n",
    "           potentialEnergy=True,\n",
    "           kineticEnergy=True,\n",
    "           totalEnergy=False,\n",
    "           temperature=True,\n",
    "           volume=True\n",
    "        )\n",
    "\n",
    "        full_reporter = md.reporters.DCDReporter(f\"{self.output_name}_meta_His{self.residue}.dcd\",\n",
    "            reportInterval=n_steps_per_frame\n",
    "        )\n",
    "        \n",
    "\n",
    "        self.simulation_meta.reporters.append(prog_reporter)\n",
    "        self.simulation_meta.reporters.append(full_reporter)\n",
    "\n",
    "        \n",
    "        \n",
    "        if hasattr(self, 'simulation_eq'):\n",
    "    \n",
    "            self.simulation_meta = copy_simu_state(self.simulation_eq, self.simulation_meta)\n",
    "            self.simulation_meta.step(n_steps)\n",
    "            self.simulation_meta.saveCheckpoint(f'{self.output_name}_meta.chk')\n",
    "        else:\n",
    "            raise ValueError('Run simulation_eq first!')\n",
    "\n",
    "        self.free_energy = self.meta.getFreeEnergy()\n",
    "        np.save(f'{self.output_name}_free_energy_His{self.residue}.npy', self.free_energy)\n",
    "        \n",
    "        \n",
    "    def create_meta(self):\n",
    "        \n",
    "        self.variables = self.get_chi1_chi2()\n",
    "        \n",
    "        self.biasDir = self.output_folder + f'/His{self.residue}_biasDir'\n",
    "        create_dir(self.biasDir)\n",
    "        \n",
    "        system = build_system(self.top)\n",
    "        system.addForce(MonteCarloBarostat(self.pressure, self.temperature, 25))\n",
    "        self.system_meta = system\n",
    "        \n",
    "        self.meta = metadynamics.Metadynamics(system, self.variables, self.pressure, \n",
    "                                            self.biasFactor, self.height, self.frequency, \n",
    "                                            saveFrequency=100, biasDir=self.biasDir)\n",
    "\n",
    "\n",
    "\n",
    "        \n",
    "        \n",
    "        \n",
    "    \n",
    "    def get_chi1(self, residue, md_top):\n",
    "        return md_top.select(f'chainid 0 and residue {residue} and (name N or name CA or name CB or name CG)')\n",
    "\n",
    "    def get_chi2(self, residue, md_top):\n",
    "        return md_top.select(f'chainid 0 and residue {residue} and (name CA or name CB or name CG or name CD2)')\n",
    "\n",
    "    def get_chi1_chi2(self):\n",
    "        'return chi1 and chi2 collective varibles of a His'\n",
    "        \n",
    "        pdbfile = self.gro_file[:-4]+'.pdb'\n",
    "        traj = md.load(pdbfile)\n",
    "        md_top = traj.topology\n",
    "\n",
    "        cv1 = CustomTorsionForce('theta')\n",
    "        cv1.addTorsion(*self.get_chi1(self.residue, md_top)[:])\n",
    "        chi1 = BiasVariable(cv1, -np.pi, np.pi, 0.5, True)\n",
    "        cv2 = CustomTorsionForce('theta')\n",
    "        cv2.addTorsion(*self.get_chi2(self.residue, md_top)[:])\n",
    "        chi2 = BiasVariable(cv2, -np.pi, np.pi, 0.5, True)\n",
    "\n",
    "        return [chi1, chi2]\n",
    "\n",
    "def meta_make_parser():\n",
    "    from argparse import ArgumentParser\n",
    "    parser = ArgumentParser()\n",
    "\n",
    "    parser.add_argument('--residue', default=168, type=int,\n",
    "                        help='His as collective varibles')\n",
    "    \n",
    "    \n",
    "    parser.add_argument('--biasFactor', default=1.5, type=float,\n",
    "                        help='biasFactor for metadynamics')\n",
    "\n",
    "    parser.add_argument('--height', default=1.0, type=float,\n",
    "                        help='height for metadynamics')\n",
    "        \n",
    "    parser.add_argument('--frequency', default=100, type=float,\n",
    "                        help='frequency for metadynamics')\n",
    "    return parser\n"
   ]
  },
  {
   "cell_type": "code",
   "execution_count": 2,
   "id": "1164ede1",
   "metadata": {},
   "outputs": [],
   "source": [
    "#from chenlin_openmm import * \n",
    "\n",
    "arg_md = ['--topology','1_168h169c_4mer_topol.top','1_168h169c_4mer_em.gro']\n",
    "arg_meta = ['--residue','168']\n",
    "\n",
    "cst_runtime = u.picoseconds*1\n",
    "eq_runtime = u.picoseconds*1\n",
    "pro_runtime = u.picoseconds*1\n",
    "meta_runtime = u.picoseconds*1\n",
    "\n",
    "parser = make_parser()\n",
    "meta_parser = meta_make_parser()\n",
    "opts = parser.parse_args(args=arg_md)\n",
    "meta_opts = meta_parser.parse_args(args=arg_meta)\n",
    "\n",
    "prepare_logging(opts.log, opts.debug)\n",
    "mdtraj_topol = md.load(opts.gro_file[:-4]+'.pdb').topology\n",
    "if opts.subset.lower() == \"none\":\n",
    "    subset = None\n",
    "else:\n",
    "    subset = mdtraj_topol.select(opts.subset)\n",
    "\n",
    "for run_num in range(opts.start_run, opts.start_run + opts.nruns):\n",
    "    if opts.start_run == 0 and opts.nruns == 1:\n",
    "        output_index = None\n",
    "    else:\n",
    "        output_index = run_num\n",
    "\n",
    "    if output_index is not None:\n",
    "        logger.info(\"Starting run \" + str(output_index))\n",
    "        \n",
    "    name = re.sub(r'\\.gro$', '', opts.gro_file)\n"
   ]
  },
  {
   "cell_type": "code",
   "execution_count": 3,
   "id": "5a0ab349",
   "metadata": {},
   "outputs": [
    {
     "data": {
      "text/plain": [
       "'1_168h169c_4mer_em'"
      ]
     },
     "execution_count": 3,
     "metadata": {},
     "output_type": "execute_result"
    }
   ],
   "source": [
    "name"
   ]
  },
  {
   "cell_type": "code",
   "execution_count": 4,
   "id": "a8ed6c98",
   "metadata": {},
   "outputs": [
    {
     "name": "stdout",
     "output_type": "stream",
     "text": [
      "1_168h169c_4mer_em\n"
     ]
    }
   ],
   "source": [
    "hismeta = HisMetadynamics(\n",
    "        gro_file = opts.gro_file,\n",
    "        top_file = opts.topology,\n",
    "        subset = subset,\n",
    "        temperature = opts.temperature*u.kelvin,\n",
    "        pressure = opts.pressure*u.atmosphere,\n",
    "        timestep = opts.timestep*u.femtoseconds,\n",
    "        time_per_frame = opts.time_per_frame*u.picoseconds,\n",
    "        residue = meta_opts.residue, \n",
    "        biasFactor = meta_opts.biasFactor,\n",
    "        height = meta_opts.height*u.kilojoule_per_mole, \n",
    "        frequency = meta_opts.frequency,\n",
    "        output_index = output_index,\n",
    "        output_basename = name)"
   ]
  },
  {
   "cell_type": "code",
   "execution_count": 30,
   "id": "08c65e4e",
   "metadata": {},
   "outputs": [],
   "source": [
    "cst_runtime = u.picoseconds*1\n",
    "eq_runtime = u.picoseconds*1\n",
    "pro_runtime = u.picoseconds*1\n",
    "meta_runtime = u.picoseconds*1\n"
   ]
  },
  {
   "cell_type": "code",
   "execution_count": 31,
   "id": "9380efd0",
   "metadata": {},
   "outputs": [
    {
     "name": "stdout",
     "output_type": "stream",
     "text": [
      "eq chk loaded!\n"
     ]
    }
   ],
   "source": [
    "#hismeta.run_cst(opts.gro_file, cst_runtime)\n",
    "#hismeta.run_eq(eq_runtime)\n",
    "#hismeta.run_pro(pro_runtime)\n",
    "hismeta.read_chk('eq')"
   ]
  },
  {
   "cell_type": "code",
   "execution_count": 32,
   "id": "a41c16f4",
   "metadata": {},
   "outputs": [],
   "source": [
    "hismeta.run_meta(meta_runtime)"
   ]
  },
  {
   "cell_type": "code",
   "execution_count": null,
   "id": "66758ad3",
   "metadata": {},
   "outputs": [],
   "source": []
  }
 ],
 "metadata": {
  "kernelspec": {
   "display_name": "Python 3 (ipykernel)",
   "language": "python",
   "name": "python3"
  },
  "language_info": {
   "codemirror_mode": {
    "name": "ipython",
    "version": 3
   },
   "file_extension": ".py",
   "mimetype": "text/x-python",
   "name": "python",
   "nbconvert_exporter": "python",
   "pygments_lexer": "ipython3",
   "version": "3.9.7"
  }
 },
 "nbformat": 4,
 "nbformat_minor": 5
}
