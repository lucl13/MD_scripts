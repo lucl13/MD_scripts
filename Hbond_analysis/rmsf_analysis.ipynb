{
 "cells": [
  {
   "cell_type": "code",
   "execution_count": 1,
   "id": "9b59c830-b958-4b24-830d-4ac7fa12dba8",
   "metadata": {},
   "outputs": [],
   "source": [
    "import mdtraj as md \n",
    "import matplotlib.pyplot as plt \n",
    "import numpy as np\n",
    "import pandas as pd\n",
    "import seaborn as sns\n",
    "import MDAnalysis"
   ]
  },
  {
   "cell_type": "markdown",
   "id": "d740a77e",
   "metadata": {},
   "source": [
    "# RMSF"
   ]
  },
  {
   "cell_type": "code",
   "execution_count": 2,
   "id": "fd56754a",
   "metadata": {},
   "outputs": [],
   "source": [
    "def get_rmsf_all_atom(traj, case_name):\n",
    "    #try to load the npy file\n",
    "    try:\n",
    "        rmsf_all_atom = np.load('./data/' + case_name + '_rmsf_all_atom.npy')\n",
    "        print(f'{case_name}_rmsf_all_atom.npy file loaded')\n",
    "    except:\n",
    "        rmsf_all_atom = md.rmsf(traj[1000:], traj[0])\n",
    "\n",
    "        #write to a numpy file\n",
    "        np.save('./data/' + case_name + '_rmsf_all_atom.npy', rmsf_all_atom)\n",
    "        print(f'{case_name}_rmsf_all_atom.npy file saved')\n",
    "    \n",
    "    return rmsf_all_atom\n",
    "\n",
    "def is_protein(res):\n",
    "    try:\n",
    "        back_bone = [res.atom(i) for i in ['CA', 'C', 'O', 'N']]\n",
    "        return True\n",
    "    except:\n",
    "        return False\n",
    "\n",
    "def get_backbone_rmsf_byres(topology, rmsf_all_atom):    \n",
    "    n_protein_res = 0\n",
    "    rmsf_by_res = []\n",
    "    for res in topology.residues:\n",
    "        if is_protein(res):\n",
    "            n_protein_res += 1\n",
    "\n",
    "            atom_index = topology.select(f'resid {res.index} and (name CA or name N or name C or name O)')            \n",
    "            rmsf_by_res.append(np.average(rmsf_all_atom[atom_index]))\n",
    "    \n",
    "    one_chain_legnth = int(n_protein_res/4)\n",
    "    rmsf_df = pd.DataFrame({'rmsf': np.array(rmsf_by_res), \n",
    "                            'residue': np.array([j for i in range(4) for j in range(topology_1.residue(0).index, topology_1.residue(0).index+one_chain_legnth)])})\n",
    "\n",
    "    rmsf_mean_df = rmsf_df.groupby('residue').mean()\n",
    "    return rmsf_df, rmsf_mean_df\n",
    "\n",
    "\n",
    "def plot_rmsf(rmsf_df, rmsf_mean_df, ax):\n",
    "    sns.lineplot(x='residue', y='rmsf', data=rmsf_df, ax=ax)\n",
    "    #sns.scatterplot(x='residue', y='rmsf', data=rmsf_mean_df[rmsf_mean_df['rmsf'] > 0.3], ax=ax)\n",
    "\n",
    "    # text the residue number of the residues with high RMSF\n",
    "    #for i in rmsf_mean_df[rmsf_mean_df['rmsf'] > 0.3].index:\n",
    "        #ax.text(i, rmsf_mean_df.loc[i, 'rmsf'], i, fontsize=12)\n",
    "\n",
    "        \n",
    "def rmsd_diff(rmsf_mean_df_1, rmsf_mean_df_2, pdb_file):\n",
    "    diff  = rmsf_mean_df_1['rmsf'] - rmsf_mean_df_2['rmsf']\n",
    "    diff.apply(abs).sort_values(ascending=False).head(20)\n",
    "    \n",
    "    # save_pdb_with_bfactor\n",
    "\n",
    "\n",
    "    u = MDAnalysis.Universe(pdb_file)\n",
    "    u.add_TopologyAttr('tempfactors') # add empty attribute for all atoms\n",
    "    protein = u.select_atoms('protein') # select protein atoms\n",
    "\n",
    "    for residue, r_value in zip(protein.residues, pd.concat([diff]*4)):\n",
    "        residue.atoms.tempfactors = r_value\n",
    "    u.atoms.write('./rmsf/4xyj_rmsf-diff_complex-apo.pdb')\n",
    "    \n",
    "    return diff"
   ]
  },
  {
   "cell_type": "code",
   "execution_count": 5,
   "id": "1ecceef4",
   "metadata": {},
   "outputs": [
    {
     "name": "stdout",
     "output_type": "stream",
     "text": [
      "1_4XYK_17-784-FLC_nowat_rmsf_all_atom.npy file loaded\n",
      "1_apo_4XYK_17-784_nowat_rmsf_all_atom.npy file loaded\n"
     ]
    }
   ],
   "source": [
    "# traj1\n",
    "case_name_1 = '1_4XYK_17-784-FLC_nowat'\n",
    "traj_1 = md.load_xtc('../5_4XYK-17-784-FLC_MD/1_4XYK_17-784-FLC_nowat.xtc', top = '../5_4XYK-17-784-FLC_MD/1_4XYK_17-784-FLC_nowat.gro')\n",
    "\n",
    "#traj2\n",
    "case_name_2 = '1_apo_4XYK_17-784_nowat'\n",
    "traj_2 = md.load_xtc('../3_apo_4XYK-17-784_MD/1_apo_4XYK_17-784_nowat.xtc', top = '../3_apo_4XYK-17-784_MD/1_apo_4XYK_17-784_nowat.gro')\n",
    "\n",
    "\n",
    "\n",
    "topology_1 = traj_1.topology\n",
    "rmsf_all_atom_1 = get_rmsf_all_atom(traj_1, case_name_1)\n",
    "rmsf_df_1, rmsf_mean_df_1 = get_backbone_rmsf_byres(topology_1, rmsf_all_atom_1)\n",
    "\n",
    "\n",
    "\n",
    "topology_2 = traj_2.topology\n",
    "rmsf_all_atom_2 = get_rmsf_all_atom(traj_2, case_name_2)\n",
    "rmsf_df_2, rmsf_mean_df_2 = get_backbone_rmsf_byres(topology_2, rmsf_all_atom_2)\n"
   ]
  },
  {
   "cell_type": "code",
   "execution_count": 6,
   "id": "6e80bce1-b22c-4b59-999d-d0d179e1aa14",
   "metadata": {},
   "outputs": [
    {
     "name": "stderr",
     "output_type": "stream",
     "text": [
      "/home/chenlin/anaconda3/envs/MD/lib/python3.10/site-packages/MDAnalysis/topology/PDBParser.py:345: UserWarning: Unknown element  found for some atoms. These have been given an empty element record. If needed they can be guessed using MDAnalysis.topology.guessers.\n",
      "  warnings.warn(wmsg)\n",
      "/home/chenlin/anaconda3/envs/MD/lib/python3.10/site-packages/MDAnalysis/topology/guessers.py:146: UserWarning: Failed to guess the mass for the following atom types: \n",
      "  warnings.warn(\"Failed to guess the mass for the following atom types: {}\".format(atom_type))\n",
      "/home/chenlin/anaconda3/envs/MD/lib/python3.10/site-packages/MDAnalysis/coordinates/PDB.py:432: UserWarning: 1 A^3 CRYST1 record, this is usually a placeholder. Unit cell dimensions will be set to None.\n",
      "  warnings.warn(\"1 A^3 CRYST1 record,\"\n",
      "/home/chenlin/anaconda3/envs/MD/lib/python3.10/site-packages/MDAnalysis/coordinates/PDB.py:753: UserWarning: Unit cell dimensions not found. CRYST1 record set to unitary values.\n",
      "  warnings.warn(\"Unit cell dimensions not found. \"\n",
      "/home/chenlin/anaconda3/envs/MD/lib/python3.10/site-packages/MDAnalysis/coordinates/PDB.py:1129: UserWarning: Found no information for attr: 'formalcharges' Using default value of '0'\n",
      "  warnings.warn(\"Found no information for attr: '{}'\"\n"
     ]
    }
   ],
   "source": [
    "diff = rmsd_diff(rmsf_mean_df_1, rmsf_mean_df_2, '../3_apo_4XYK-17-784_MD/1_apo_4XYK_17-784.pdb')"
   ]
  },
  {
   "cell_type": "code",
   "execution_count": 11,
   "id": "c05f8d40-2cfe-456f-81eb-5c28b1d539a7",
   "metadata": {},
   "outputs": [
    {
     "data": {
      "text/plain": [
       "(-0.132914, 0.046398506)"
      ]
     },
     "execution_count": 11,
     "metadata": {},
     "output_type": "execute_result"
    }
   ],
   "source": [
    "diff.min(), diff.max()"
   ]
  },
  {
   "cell_type": "code",
   "execution_count": 10,
   "id": "4932f873-750d-4034-832e-200286bf037e",
   "metadata": {},
   "outputs": [],
   "source": [
    "# spectrum b, blue_white_red, minimum=-0.05, maximum=0.05"
   ]
  },
  {
   "cell_type": "code",
   "execution_count": 14,
   "id": "e0af16e7-5710-4276-9432-fffc4810a484",
   "metadata": {},
   "outputs": [
    {
     "name": "stdout",
     "output_type": "stream",
     "text": [
      "1_4XYJ_17-784-FLC_nowat_rmsf_all_atom.npy file saved\n",
      "1_apo_4XYJ_17-784_nowat_rmsf_all_atom.npy file saved\n"
     ]
    }
   ],
   "source": [
    "# traj1\n",
    "case_name_1 = '1_4XYJ_17-784-FLC_nowat'\n",
    "traj_1 = md.load_xtc('../6_4XYJ-17-784-FLC_MD/1_4XYJ_17-784-FLC_nowat.xtc', top = '../6_4XYJ-17-784-FLC_MD/1_4XYJ_17-784-FLC_nowat.gro')\n",
    "\n",
    "#traj2\n",
    "case_name_2 = '1_apo_4XYJ_17-784_nowat'\n",
    "traj_2 = md.load_xtc('../4_apo_4XYJ-17-784_MD/1_apo_4XYJ_17-784_nowat.xtc', top = '../4_apo_4XYJ-17-784_MD/1_apo_4XYJ_17-784_nowat.gro')\n",
    "\n",
    "\n",
    "\n",
    "topology_1 = traj_1.topology\n",
    "rmsf_all_atom_1 = get_rmsf_all_atom(traj_1, case_name_1)\n",
    "rmsf_df_1, rmsf_mean_df_1 = get_backbone_rmsf_byres(topology_1, rmsf_all_atom_1)\n",
    "\n",
    "\n",
    "\n",
    "topology_2 = traj_2.topology\n",
    "rmsf_all_atom_2 = get_rmsf_all_atom(traj_2, case_name_2)\n",
    "rmsf_df_2, rmsf_mean_df_2 = get_backbone_rmsf_byres(topology_2, rmsf_all_atom_2)\n"
   ]
  },
  {
   "cell_type": "code",
   "execution_count": 15,
   "id": "a01a01d8-5a54-4427-b964-a65475562429",
   "metadata": {},
   "outputs": [
    {
     "name": "stderr",
     "output_type": "stream",
     "text": [
      "/home/chenlin/anaconda3/envs/MD/lib/python3.10/site-packages/MDAnalysis/topology/PDBParser.py:345: UserWarning: Unknown element  found for some atoms. These have been given an empty element record. If needed they can be guessed using MDAnalysis.topology.guessers.\n",
      "  warnings.warn(wmsg)\n",
      "/home/chenlin/anaconda3/envs/MD/lib/python3.10/site-packages/MDAnalysis/topology/guessers.py:146: UserWarning: Failed to guess the mass for the following atom types: \n",
      "  warnings.warn(\"Failed to guess the mass for the following atom types: {}\".format(atom_type))\n",
      "/home/chenlin/anaconda3/envs/MD/lib/python3.10/site-packages/MDAnalysis/coordinates/PDB.py:432: UserWarning: 1 A^3 CRYST1 record, this is usually a placeholder. Unit cell dimensions will be set to None.\n",
      "  warnings.warn(\"1 A^3 CRYST1 record,\"\n",
      "/home/chenlin/anaconda3/envs/MD/lib/python3.10/site-packages/MDAnalysis/coordinates/PDB.py:753: UserWarning: Unit cell dimensions not found. CRYST1 record set to unitary values.\n",
      "  warnings.warn(\"Unit cell dimensions not found. \"\n",
      "/home/chenlin/anaconda3/envs/MD/lib/python3.10/site-packages/MDAnalysis/coordinates/PDB.py:1129: UserWarning: Found no information for attr: 'formalcharges' Using default value of '0'\n",
      "  warnings.warn(\"Found no information for attr: '{}'\"\n"
     ]
    }
   ],
   "source": [
    "diff = rmsd_diff(rmsf_mean_df_1, rmsf_mean_df_2, '../3_apo_4XYK-17-784_MD/1_apo_4XYK_17-784.pdb')"
   ]
  },
  {
   "cell_type": "code",
   "execution_count": null,
   "id": "d2220cb1-5f86-4b2c-81d8-865f69e77cbb",
   "metadata": {},
   "outputs": [],
   "source": []
  }
 ],
 "metadata": {
  "kernelspec": {
   "display_name": "Python 3 (ipykernel)",
   "language": "python",
   "name": "python3"
  },
  "language_info": {
   "codemirror_mode": {
    "name": "ipython",
    "version": 3
   },
   "file_extension": ".py",
   "mimetype": "text/x-python",
   "name": "python",
   "nbconvert_exporter": "python",
   "pygments_lexer": "ipython3",
   "version": "3.10.4"
  },
  "vscode": {
   "interpreter": {
    "hash": "5887bc237414c1bd1f360d25e0e96ea42f84a643c60b529b66276dba543596a0"
   }
  }
 },
 "nbformat": 4,
 "nbformat_minor": 5
}
