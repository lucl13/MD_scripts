{
 "cells": [
  {
   "cell_type": "code",
   "execution_count": 1,
   "metadata": {
    "collapsed": false
   },
   "outputs": [],
   "source": [
    "import MDAnalysis\n",
    "import mdtraj as md\n",
    "import numpy as np\n",
    "import pandas as pd\n",
    "import seaborn as sns\n",
    "import matplotlib.pyplot as plt\n",
    "import matplotlib.ticker as ticker\n",
    "sns.set_style(\"white\")\n",
    "#sns.set_style()"
   ]
  },
  {
   "cell_type": "markdown",
   "metadata": {
    "collapsed": false
   },
   "source": [
    "# load traj"
   ]
  },
  {
   "cell_type": "code",
   "execution_count": 2,
   "metadata": {
    "collapsed": false
   },
   "outputs": [],
   "source": [
    "# RIP bound complex trajs\n",
    "case_name_1 = '2_2dri-RIP_nowat'\n",
    "gros_1 = [f'../100_clean_traj/{i}_2dri-RIP_nowat.gro' for i in range(1, 3)]\n",
    "gros_1 += [f'../100_clean_traj/{i}_2dri-RIP_backrubed_nowat.gro' for i in range(1, 11)]\n",
    "\n",
    "xtcs_1 = [f'../100_clean_traj/{i}_2dri-RIP_nowat.xtc' for i in range(1, 3)]\n",
    "xtcs_1 += [f'../100_clean_traj/{i}_2dri-RIP_backrubed_nowat.xtc' for i in range(1, 11)]\n",
    "u_1 = MDAnalysis.Universe(gros_1[0], xtcs_1)\n",
    "\n",
    "\n",
    "# apo trajs\n",
    "case_name_2 = '1_apo_1urp_nowat'\n",
    "gros_2 = [f'../../MD-CL-7-1/100_clean_traj/{i}_apo_1urp_nowat.gro' for i in range(1, 2)]\n",
    "gros_2 += [f'../../MD-CL-7-1/100_clean_traj/{i}_apo_1urp_backrubed_nowat.gro' for i in range(1, 11)]\n",
    "\n",
    "xtcs_2 = [f'../../MD-CL-7-1/100_clean_traj/{i}_apo_1urp_nowat.xtc' for i in range(1, 2)]\n",
    "xtcs_2 += [f'../../MD-CL-7-1/100_clean_traj/{i}_apo_1urp_backrubed_nowat.xtc' for i in range(1, 11)]\n",
    "u_2 = MDAnalysis.Universe(gros_2[0], xtcs_2)"
   ]
  },
  {
   "cell_type": "code",
   "execution_count": 3,
   "metadata": {
    "collapsed": false
   },
   "outputs": [
    {
     "name": "stdout",
     "output_type": "stream",
     "text": [
      "<ChainReader containing 1_2dri-RIP_nowat.xtc and 11 more with 170012 frames of 4080 atoms>\n",
      "<ChainReader containing 1_apo_1urp_nowat.xtc and 10 more with 250011 frames of 4060 atoms>\n"
     ]
    }
   ],
   "source": [
    "print(u_1.trajectory)\n",
    "print(u_2.trajectory)"
   ]
  },
  {
   "cell_type": "markdown",
   "metadata": {
    "collapsed": false
   },
   "source": [
    "# Hbond_diff"
   ]
  },
  {
   "cell_type": "code",
   "execution_count": 4,
   "metadata": {
    "collapsed": false
   },
   "outputs": [
    {
     "name": "stdout",
     "output_type": "stream",
     "text": [
      "2_2dri-RIP_nowat_hbond.npy file loaded\n",
      "1_apo_1urp_nowat_hbond.npy file loaded\n"
     ]
    }
   ],
   "source": [
    "from md_utility.hbond import *\n",
    "from md_utility.utils import plot_on_pdb\n",
    "\n",
    "max_per_res_1 = run_hbond_analysis(case_name_1, u_1)\n",
    "max_per_res_2 = run_hbond_analysis(case_name_2, u_2)"
   ]
  },
  {
   "cell_type": "code",
   "execution_count": 5,
   "metadata": {
    "collapsed": false
   },
   "outputs": [
    {
     "data": {
      "text/html": [
       "<div>\n",
       "<style scoped>\n",
       "    .dataframe tbody tr th:only-of-type {\n",
       "        vertical-align: middle;\n",
       "    }\n",
       "\n",
       "    .dataframe tbody tr th {\n",
       "        vertical-align: top;\n",
       "    }\n",
       "\n",
       "    .dataframe thead th {\n",
       "        text-align: right;\n",
       "    }\n",
       "</style>\n",
       "<table border=\"1\" class=\"dataframe\">\n",
       "  <thead>\n",
       "    <tr style=\"text-align: right;\">\n",
       "      <th></th>\n",
       "      <th>donor</th>\n",
       "      <th>hydrogen</th>\n",
       "      <th>acceptor</th>\n",
       "      <th>hbond_ratio</th>\n",
       "    </tr>\n",
       "  </thead>\n",
       "  <tbody>\n",
       "    <tr>\n",
       "      <th>0</th>\n",
       "      <td>ASP2-N</td>\n",
       "      <td>ASP2-HN</td>\n",
       "      <td>GLY31-O</td>\n",
       "      <td>0.043044</td>\n",
       "    </tr>\n",
       "    <tr>\n",
       "      <th>1</th>\n",
       "      <td>THR3-N</td>\n",
       "      <td>THR3-HN</td>\n",
       "      <td>LYS1-O</td>\n",
       "      <td>0.006656</td>\n",
       "    </tr>\n",
       "    <tr>\n",
       "      <th>2</th>\n",
       "      <td>ILE4-N</td>\n",
       "      <td>ILE4-HN</td>\n",
       "      <td>ASN33-O</td>\n",
       "      <td>23.112856</td>\n",
       "    </tr>\n",
       "    <tr>\n",
       "      <th>3</th>\n",
       "      <td>ALA5-N</td>\n",
       "      <td>ALA5-HN</td>\n",
       "      <td>LYS59-O</td>\n",
       "      <td>18.918035</td>\n",
       "    </tr>\n",
       "    <tr>\n",
       "      <th>4</th>\n",
       "      <td>LEU6-N</td>\n",
       "      <td>LEU6-HN</td>\n",
       "      <td>VAL35-O</td>\n",
       "      <td>22.788175</td>\n",
       "    </tr>\n",
       "    <tr>\n",
       "      <th>...</th>\n",
       "      <td>...</td>\n",
       "      <td>...</td>\n",
       "      <td>...</td>\n",
       "      <td>...</td>\n",
       "    </tr>\n",
       "    <tr>\n",
       "      <th>219</th>\n",
       "      <td>LYS266-N</td>\n",
       "      <td>LYS266-HN</td>\n",
       "      <td>ALA234-O</td>\n",
       "      <td>11.032057</td>\n",
       "    </tr>\n",
       "    <tr>\n",
       "      <th>220</th>\n",
       "      <td>VAL268-N</td>\n",
       "      <td>VAL268-HN</td>\n",
       "      <td>THR232-O</td>\n",
       "      <td>22.102277</td>\n",
       "    </tr>\n",
       "    <tr>\n",
       "      <th>221</th>\n",
       "      <td>VAL269-N</td>\n",
       "      <td>VAL269-HN</td>\n",
       "      <td>LEU267-O</td>\n",
       "      <td>0.000148</td>\n",
       "    </tr>\n",
       "    <tr>\n",
       "      <th>222</th>\n",
       "      <td>LYS270-N</td>\n",
       "      <td>LYS270-HN</td>\n",
       "      <td>ALA230-O</td>\n",
       "      <td>7.556416</td>\n",
       "    </tr>\n",
       "    <tr>\n",
       "      <th>223</th>\n",
       "      <td>GLN271-N</td>\n",
       "      <td>GLN271-HN</td>\n",
       "      <td>VAL269-O</td>\n",
       "      <td>0.408551</td>\n",
       "    </tr>\n",
       "  </tbody>\n",
       "</table>\n",
       "<p>224 rows × 4 columns</p>\n",
       "</div>"
      ],
      "text/plain": [
       "        donor   hydrogen  acceptor  hbond_ratio\n",
       "0      ASP2-N    ASP2-HN   GLY31-O     0.043044\n",
       "1      THR3-N    THR3-HN    LYS1-O     0.006656\n",
       "2      ILE4-N    ILE4-HN   ASN33-O    23.112856\n",
       "3      ALA5-N    ALA5-HN   LYS59-O    18.918035\n",
       "4      LEU6-N    LEU6-HN   VAL35-O    22.788175\n",
       "..        ...        ...       ...          ...\n",
       "219  LYS266-N  LYS266-HN  ALA234-O    11.032057\n",
       "220  VAL268-N  VAL268-HN  THR232-O    22.102277\n",
       "221  VAL269-N  VAL269-HN  LEU267-O     0.000148\n",
       "222  LYS270-N  LYS270-HN  ALA230-O     7.556416\n",
       "223  GLN271-N  GLN271-HN  VAL269-O     0.408551\n",
       "\n",
       "[224 rows x 4 columns]"
      ]
     },
     "execution_count": 5,
     "metadata": {},
     "output_type": "execute_result"
    }
   ],
   "source": [
    "def clean_df(df, index_name):\n",
    "    import re\n",
    "    df = df.reset_index()\n",
    "    df['resnum'] = df[index_name].apply(lambda x: re.search('[A-Z]*(\\d*).*', x).group(1))\n",
    "    df['resnum']  = df['resnum'].astype(np.int64)\n",
    "    df = df.sort_values(by='resnum')\n",
    "    df.reset_index(inplace=True, drop=True)\n",
    "    return df.drop(columns='resnum')\n",
    "\n",
    "clean_df(max_per_res_1, 'donor')"
   ]
  },
  {
   "cell_type": "code",
   "execution_count": 6,
   "metadata": {
    "collapsed": false
   },
   "outputs": [
    {
     "data": {
      "text/html": [
       "<div>\n",
       "<style scoped>\n",
       "    .dataframe tbody tr th:only-of-type {\n",
       "        vertical-align: middle;\n",
       "    }\n",
       "\n",
       "    .dataframe tbody tr th {\n",
       "        vertical-align: top;\n",
       "    }\n",
       "\n",
       "    .dataframe thead th {\n",
       "        text-align: right;\n",
       "    }\n",
       "</style>\n",
       "<table border=\"1\" class=\"dataframe\">\n",
       "  <thead>\n",
       "    <tr style=\"text-align: right;\">\n",
       "      <th></th>\n",
       "      <th>donor</th>\n",
       "      <th>hydrogen</th>\n",
       "      <th>acceptor</th>\n",
       "      <th>hbond_ratio</th>\n",
       "    </tr>\n",
       "  </thead>\n",
       "  <tbody>\n",
       "    <tr>\n",
       "      <th>0</th>\n",
       "      <td>ASP2-N</td>\n",
       "      <td>ASP2-HN</td>\n",
       "      <td>GLY31-O</td>\n",
       "      <td>0.014332</td>\n",
       "    </tr>\n",
       "    <tr>\n",
       "      <th>1</th>\n",
       "      <td>THR3-N</td>\n",
       "      <td>THR3-HN</td>\n",
       "      <td>LYS1-O</td>\n",
       "      <td>0.000500</td>\n",
       "    </tr>\n",
       "    <tr>\n",
       "      <th>2</th>\n",
       "      <td>ILE4-N</td>\n",
       "      <td>ILE4-HN</td>\n",
       "      <td>ASN33-O</td>\n",
       "      <td>23.166634</td>\n",
       "    </tr>\n",
       "    <tr>\n",
       "      <th>3</th>\n",
       "      <td>ALA5-N</td>\n",
       "      <td>ALA5-HN</td>\n",
       "      <td>ILE60-O</td>\n",
       "      <td>18.663798</td>\n",
       "    </tr>\n",
       "    <tr>\n",
       "      <th>4</th>\n",
       "      <td>LEU6-N</td>\n",
       "      <td>LEU6-HN</td>\n",
       "      <td>VAL35-O</td>\n",
       "      <td>22.808161</td>\n",
       "    </tr>\n",
       "    <tr>\n",
       "      <th>...</th>\n",
       "      <td>...</td>\n",
       "      <td>...</td>\n",
       "      <td>...</td>\n",
       "      <td>...</td>\n",
       "    </tr>\n",
       "    <tr>\n",
       "      <th>218</th>\n",
       "      <td>LYS266-N</td>\n",
       "      <td>LYS266-HN</td>\n",
       "      <td>ALA234-O</td>\n",
       "      <td>21.850731</td>\n",
       "    </tr>\n",
       "    <tr>\n",
       "      <th>219</th>\n",
       "      <td>VAL268-N</td>\n",
       "      <td>VAL268-HN</td>\n",
       "      <td>THR232-O</td>\n",
       "      <td>21.833899</td>\n",
       "    </tr>\n",
       "    <tr>\n",
       "      <th>220</th>\n",
       "      <td>VAL269-N</td>\n",
       "      <td>VAL269-HN</td>\n",
       "      <td>LEU267-O</td>\n",
       "      <td>0.000333</td>\n",
       "    </tr>\n",
       "    <tr>\n",
       "      <th>221</th>\n",
       "      <td>LYS270-N</td>\n",
       "      <td>LYS270-HN</td>\n",
       "      <td>ALA230-O</td>\n",
       "      <td>4.834645</td>\n",
       "    </tr>\n",
       "    <tr>\n",
       "      <th>222</th>\n",
       "      <td>GLN271-N</td>\n",
       "      <td>GLN271-HN</td>\n",
       "      <td>VAL269-O</td>\n",
       "      <td>0.116325</td>\n",
       "    </tr>\n",
       "  </tbody>\n",
       "</table>\n",
       "<p>223 rows × 4 columns</p>\n",
       "</div>"
      ],
      "text/plain": [
       "        donor   hydrogen  acceptor  hbond_ratio\n",
       "0      ASP2-N    ASP2-HN   GLY31-O     0.014332\n",
       "1      THR3-N    THR3-HN    LYS1-O     0.000500\n",
       "2      ILE4-N    ILE4-HN   ASN33-O    23.166634\n",
       "3      ALA5-N    ALA5-HN   ILE60-O    18.663798\n",
       "4      LEU6-N    LEU6-HN   VAL35-O    22.808161\n",
       "..        ...        ...       ...          ...\n",
       "218  LYS266-N  LYS266-HN  ALA234-O    21.850731\n",
       "219  VAL268-N  VAL268-HN  THR232-O    21.833899\n",
       "220  VAL269-N  VAL269-HN  LEU267-O     0.000333\n",
       "221  LYS270-N  LYS270-HN  ALA230-O     4.834645\n",
       "222  GLN271-N  GLN271-HN  VAL269-O     0.116325\n",
       "\n",
       "[223 rows x 4 columns]"
      ]
     },
     "execution_count": 6,
     "metadata": {},
     "output_type": "execute_result"
    }
   ],
   "source": [
    "clean_df(max_per_res_2, 'donor')"
   ]
  },
  {
   "cell_type": "code",
   "execution_count": 7,
   "metadata": {
    "collapsed": false
   },
   "outputs": [
    {
     "name": "stderr",
     "output_type": "stream",
     "text": [
      "/home/chenlin/anaconda3/envs/MD/lib/python3.10/site-packages/MDAnalysis/topology/PDBParser.py:345: UserWarning: Unknown element  found for some atoms. These have been given an empty element record. If needed they can be guessed using MDAnalysis.topology.guessers.\n",
      "  warnings.warn(wmsg)\n",
      "/home/chenlin/anaconda3/envs/MD/lib/python3.10/site-packages/MDAnalysis/topology/guessers.py:146: UserWarning: Failed to guess the mass for the following atom types: \n",
      "  warnings.warn(\"Failed to guess the mass for the following atom types: {}\".format(atom_type))\n",
      "/home/chenlin/anaconda3/envs/MD/lib/python3.10/site-packages/MDAnalysis/coordinates/PDB.py:1129: UserWarning: Found no information for attr: 'formalcharges' Using default value of '0'\n",
      "  warnings.warn(\"Found no information for attr: '{}'\"\n"
     ]
    }
   ],
   "source": [
    "pdb_file = '../2_2dri-RIP_MD/1_2dri-RIP.pdb'\n",
    "u_plot = plot_on_pdb(case_name_1, pdb_file, df_per_res_1=max_per_res_1, df_per_res_2=max_per_res_2,\n",
    "                     column_name='hbond_ratio', save_pdb=True)"
   ]
  },
  {
   "cell_type": "code",
   "execution_count": 8,
   "metadata": {
    "collapsed": false
   },
   "outputs": [],
   "source": [
    "CA_atoms = u_plot.select_atoms('name CA')\n",
    "df = pd.DataFrame({'resnum': CA_atoms.resnums, 'hbond_ratio_diff': CA_atoms.tempfactors})"
   ]
  },
  {
   "cell_type": "code",
   "execution_count": 9,
   "metadata": {
    "collapsed": false
   },
   "outputs": [
    {
     "data": {
      "text/plain": [
       "'17 54 71 72 75 87 90 93 144 145 194 232 233 235 250'"
      ]
     },
     "execution_count": 9,
     "metadata": {},
     "output_type": "execute_result"
    }
   ],
   "source": [
    "' '.join(list(df[df['hbond_ratio_diff'] > 3].resnum.astype(str)))"
   ]
  },
  {
   "cell_type": "code",
   "execution_count": 10,
   "metadata": {
    "collapsed": false
   },
   "outputs": [
    {
     "data": {
      "text/plain": [
       "'39 64 70 104 212 234 236 266'"
      ]
     },
     "execution_count": 10,
     "metadata": {},
     "output_type": "execute_result"
    }
   ],
   "source": [
    "' '.join(list(df[df['hbond_ratio_diff'] < -3].resnum.astype(str)))"
   ]
  },
  {
   "cell_type": "code",
   "execution_count": 48,
   "metadata": {
    "collapsed": false
   },
   "outputs": [],
   "source": [
    "def coarse_grain_hbond_diff(df, start=1, stop=2):\n",
    "    return sum(df['hbond_ratio_diff'][start-1+2:stop-1])"
   ]
  },
  {
   "cell_type": "code",
   "execution_count": 49,
   "metadata": {
    "collapsed": false
   },
   "outputs": [
    {
     "data": {
      "text/html": [
       "<div>\n",
       "<style scoped>\n",
       "    .dataframe tbody tr th:only-of-type {\n",
       "        vertical-align: middle;\n",
       "    }\n",
       "\n",
       "    .dataframe tbody tr th {\n",
       "        vertical-align: top;\n",
       "    }\n",
       "\n",
       "    .dataframe thead th {\n",
       "        text-align: right;\n",
       "    }\n",
       "</style>\n",
       "<table border=\"1\" class=\"dataframe\">\n",
       "  <thead>\n",
       "    <tr style=\"text-align: right;\">\n",
       "      <th></th>\n",
       "      <th>resnum</th>\n",
       "      <th>hbond_ratio_diff</th>\n",
       "      <th>hbond_ratio_diff_smoothed</th>\n",
       "    </tr>\n",
       "  </thead>\n",
       "  <tbody>\n",
       "    <tr>\n",
       "      <th>0</th>\n",
       "      <td>1</td>\n",
       "      <td>0.000000</td>\n",
       "      <td>0.009316</td>\n",
       "    </tr>\n",
       "    <tr>\n",
       "      <th>1</th>\n",
       "      <td>2</td>\n",
       "      <td>0.028712</td>\n",
       "      <td>0.020666</td>\n",
       "    </tr>\n",
       "    <tr>\n",
       "      <th>2</th>\n",
       "      <td>3</td>\n",
       "      <td>0.006156</td>\n",
       "      <td>-0.027396</td>\n",
       "    </tr>\n",
       "    <tr>\n",
       "      <th>3</th>\n",
       "      <td>4</td>\n",
       "      <td>-0.053779</td>\n",
       "      <td>0.062409</td>\n",
       "    </tr>\n",
       "    <tr>\n",
       "      <th>4</th>\n",
       "      <td>5</td>\n",
       "      <td>0.254237</td>\n",
       "      <td>0.109269</td>\n",
       "    </tr>\n",
       "    <tr>\n",
       "      <th>...</th>\n",
       "      <td>...</td>\n",
       "      <td>...</td>\n",
       "      <td>...</td>\n",
       "    </tr>\n",
       "    <tr>\n",
       "      <th>266</th>\n",
       "      <td>267</td>\n",
       "      <td>0.000000</td>\n",
       "      <td>-3.617228</td>\n",
       "    </tr>\n",
       "    <tr>\n",
       "      <th>267</th>\n",
       "      <td>268</td>\n",
       "      <td>0.268378</td>\n",
       "      <td>0.824312</td>\n",
       "    </tr>\n",
       "    <tr>\n",
       "      <th>268</th>\n",
       "      <td>269</td>\n",
       "      <td>-0.000185</td>\n",
       "      <td>1.000056</td>\n",
       "    </tr>\n",
       "    <tr>\n",
       "      <th>269</th>\n",
       "      <td>270</td>\n",
       "      <td>2.721771</td>\n",
       "      <td>1.374079</td>\n",
       "    </tr>\n",
       "    <tr>\n",
       "      <th>270</th>\n",
       "      <td>271</td>\n",
       "      <td>0.292226</td>\n",
       "      <td>1.150277</td>\n",
       "    </tr>\n",
       "  </tbody>\n",
       "</table>\n",
       "<p>271 rows × 3 columns</p>\n",
       "</div>"
      ],
      "text/plain": [
       "     resnum  hbond_ratio_diff  hbond_ratio_diff_smoothed\n",
       "0         1          0.000000                   0.009316\n",
       "1         2          0.028712                   0.020666\n",
       "2         3          0.006156                  -0.027396\n",
       "3         4         -0.053779                   0.062409\n",
       "4         5          0.254237                   0.109269\n",
       "..      ...               ...                        ...\n",
       "266     267          0.000000                  -3.617228\n",
       "267     268          0.268378                   0.824312\n",
       "268     269         -0.000185                   1.000056\n",
       "269     270          2.721771                   1.374079\n",
       "270     271          0.292226                   1.150277\n",
       "\n",
       "[271 rows x 3 columns]"
      ]
     },
     "execution_count": 49,
     "metadata": {},
     "output_type": "execute_result"
    }
   ],
   "source": [
    "df"
   ]
  },
  {
   "cell_type": "code",
   "execution_count": 50,
   "metadata": {
    "collapsed": false
   },
   "outputs": [
    {
     "data": {
      "text/plain": [
       "-8.413678117994506"
      ]
     },
     "execution_count": 50,
     "metadata": {},
     "output_type": "execute_result"
    }
   ],
   "source": [
    "coarse_grain_hbond_diff(df, start=35, stop=40)"
   ]
  },
  {
   "cell_type": "code",
   "execution_count": 51,
   "metadata": {
    "collapsed": false
   },
   "outputs": [],
   "source": [
    "heat_map_df = pd.read_csv('../200_hdx/10-18-rbsb_plotting_only-for-uptake-plot/plots/Apo-Rib-heatmapdf.csv', index_col=0)\n",
    "hbond_diff_sum = []\n",
    "for index, row in heat_map_df.iterrows():\n",
    "    start = row['Start']\n",
    "    stop = row['End']\n",
    "    pep_sum = coarse_grain_hbond_diff(df, start=start, stop=stop)\n",
    "    hbond_diff_sum.append(pep_sum)\n",
    "heat_map_df['hbond_diff_sum'] = pd.Series(hbond_diff_sum)"
   ]
  },
  {
   "cell_type": "raw",
   "metadata": {
    "collapsed": false
   },
   "source": [
    "from sklearn.preprocessing import MinMaxScaler\n",
    "scaler_min,  scaler_max = heat_map_df['hbond_diff_sum'].min(), heat_map_df['hbond_diff_sum'].max()\n",
    "scaler = MinMaxScaler(feature_range=(scaler_min,  scaler_max))\n",
    "heat_map_df[['Sensitivity' ,'hbond_diff_sum']] = pd.DataFrame(scaler.fit_transform(heat_map_df[['Sensitivity' ,'hbond_diff_sum']]),\n",
    "             columns=['Sensitivity' ,'hbond_diff_sum'])"
   ]
  },
  {
   "cell_type": "code",
   "execution_count": 52,
   "metadata": {
    "collapsed": false
   },
   "outputs": [
    {
     "data": {
      "text/html": [
       "<div>\n",
       "<style scoped>\n",
       "    .dataframe tbody tr th:only-of-type {\n",
       "        vertical-align: middle;\n",
       "    }\n",
       "\n",
       "    .dataframe tbody tr th {\n",
       "        vertical-align: top;\n",
       "    }\n",
       "\n",
       "    .dataframe thead th {\n",
       "        text-align: right;\n",
       "    }\n",
       "</style>\n",
       "<table border=\"1\" class=\"dataframe\">\n",
       "  <thead>\n",
       "    <tr style=\"text-align: right;\">\n",
       "      <th></th>\n",
       "      <th>Sensitivity</th>\n",
       "      <th>Start</th>\n",
       "      <th>End</th>\n",
       "      <th>hbond_diff_sum</th>\n",
       "    </tr>\n",
       "  </thead>\n",
       "  <tbody>\n",
       "    <tr>\n",
       "      <th>count</th>\n",
       "      <td>171.000000</td>\n",
       "      <td>171.000000</td>\n",
       "      <td>171.000000</td>\n",
       "      <td>171.000000</td>\n",
       "    </tr>\n",
       "    <tr>\n",
       "      <th>mean</th>\n",
       "      <td>0.049647</td>\n",
       "      <td>126.573099</td>\n",
       "      <td>137.590643</td>\n",
       "      <td>3.186408</td>\n",
       "    </tr>\n",
       "    <tr>\n",
       "      <th>std</th>\n",
       "      <td>0.039722</td>\n",
       "      <td>76.186607</td>\n",
       "      <td>76.481576</td>\n",
       "      <td>5.607524</td>\n",
       "    </tr>\n",
       "    <tr>\n",
       "      <th>min</th>\n",
       "      <td>-0.010030</td>\n",
       "      <td>6.000000</td>\n",
       "      <td>12.000000</td>\n",
       "      <td>-11.200048</td>\n",
       "    </tr>\n",
       "    <tr>\n",
       "      <th>25%</th>\n",
       "      <td>0.021235</td>\n",
       "      <td>54.000000</td>\n",
       "      <td>62.500000</td>\n",
       "      <td>0.096577</td>\n",
       "    </tr>\n",
       "    <tr>\n",
       "      <th>50%</th>\n",
       "      <td>0.039595</td>\n",
       "      <td>132.000000</td>\n",
       "      <td>147.000000</td>\n",
       "      <td>2.988289</td>\n",
       "    </tr>\n",
       "    <tr>\n",
       "      <th>75%</th>\n",
       "      <td>0.064368</td>\n",
       "      <td>194.000000</td>\n",
       "      <td>201.000000</td>\n",
       "      <td>6.582364</td>\n",
       "    </tr>\n",
       "    <tr>\n",
       "      <th>max</th>\n",
       "      <td>0.215824</td>\n",
       "      <td>261.000000</td>\n",
       "      <td>268.000000</td>\n",
       "      <td>19.516974</td>\n",
       "    </tr>\n",
       "  </tbody>\n",
       "</table>\n",
       "</div>"
      ],
      "text/plain": [
       "       Sensitivity       Start         End  hbond_diff_sum\n",
       "count   171.000000  171.000000  171.000000      171.000000\n",
       "mean      0.049647  126.573099  137.590643        3.186408\n",
       "std       0.039722   76.186607   76.481576        5.607524\n",
       "min      -0.010030    6.000000   12.000000      -11.200048\n",
       "25%       0.021235   54.000000   62.500000        0.096577\n",
       "50%       0.039595  132.000000  147.000000        2.988289\n",
       "75%       0.064368  194.000000  201.000000        6.582364\n",
       "max       0.215824  261.000000  268.000000       19.516974"
      ]
     },
     "execution_count": 52,
     "metadata": {},
     "output_type": "execute_result"
    }
   ],
   "source": [
    "heat_map_df.describe()"
   ]
  },
  {
   "cell_type": "code",
   "execution_count": 53,
   "metadata": {
    "collapsed": false
   },
   "outputs": [
    {
     "data": {
      "image/png": "[encoded data removed]",
      "text/plain": [
       "<Figure size 1440x576 with 4 Axes>"
      ]
     },
     "metadata": {
      "needs_background": "light"
     },
     "output_type": "display_data"
    }
   ],
   "source": [
    "import matplotlib.colors as col\n",
    "from matplotlib.patches import Rectangle\n",
    "from matplotlib import cm\n",
    "from mpl_toolkits.axes_grid1 import make_axes_locatable\n",
    "#colmap = plt.get_cmap(\"Blues\")\n",
    "colmap = plt.get_cmap(\"RdBu\")\n",
    "\n",
    "\n",
    "colorbar_maxs = [0.2, 20]\n",
    "plol_y_datas = ['Sensitivity' ,'hbond_diff_sum']\n",
    "fig, axes = plt.subplots(2, 1, figsize=(20,8), sharey=True, sharex=True)\n",
    "for plol_i in range(2):\n",
    "    colorbar_max = colorbar_maxs[plol_i]\n",
    "    ax = axes.flatten()[plol_i]\n",
    "    leftbound = heat_map_df['Start'][0]-10\n",
    "    rightbound = max(heat_map_df['End'])+10\n",
    "    ax.set_xlim(leftbound,rightbound)\n",
    "    ax.xaxis.set_ticks(np.arange(round(leftbound,-1), round(rightbound,-1), 10))\n",
    "    ax.set_ylim(-5,110)\n",
    "    ax.grid(axis='x')\n",
    "    ax.yaxis.set_ticks([])\n",
    "    norm = col.Normalize(vmin=-colorbar_max,vmax=colorbar_max)\n",
    "    for i in range(len(heat_map_df['Start'])):\n",
    "        ax.add_patch(Rectangle((heat_map_df['Start'][i], (i%20)*5 + ((i//20)%2)*2.5), heat_map_df['End'][i]-heat_map_df['Start'][i],4, fc=colmap(norm(heat_map_df[plol_y_datas[plol_i]][i]))))\n",
    "    divider = make_axes_locatable(ax)\n",
    "    cax = divider.append_axes('right', size='1%', pad=0.05)\n",
    "    fig.colorbar(cm.ScalarMappable(cmap=colmap, norm=norm), cax=cax)\n",
    "plt.tight_layout()\n",
    "#fig.savefig('hbond/figures/hbond_sum_compare_with_hdx.png',dpi=600)"
   ]
  },
  {
   "cell_type": "code",
   "execution_count": 20,
   "metadata": {
    "collapsed": false
   },
   "outputs": [],
   "source": [
    "def plot_2pfk(data_df, x, y, save_path=None):\n",
    "\n",
    "    fig, ax = plt.subplots(1, 1, figsize=(20, 5))\n",
    "    sns.lineplot(data=data_df, x=x, y=y)\n",
    "    ax.xaxis.set_major_locator(ticker.MultipleLocator(10))\n",
    "    ax.tick_params(axis='x', labelrotation=0)\n",
    "    #ax.set_xlim(-5, 325)\n",
    "    fig.tight_layout()\n",
    "    if save_path is not None:\n",
    "        fig.savefig(save_path)"
   ]
  },
  {
   "cell_type": "code",
   "execution_count": 21,
   "metadata": {
    "collapsed": false
   },
   "outputs": [],
   "source": [
    "from scipy.signal import savgol_filter"
   ]
  },
  {
   "cell_type": "code",
   "execution_count": 22,
   "metadata": {
    "collapsed": false
   },
   "outputs": [],
   "source": [
    "df['hbond_ratio_diff_smoothed'] = savgol_filter(df['hbond_ratio_diff'], 5, 3, mode='nearest')"
   ]
  },
  {
   "cell_type": "code",
   "execution_count": 23,
   "metadata": {
    "collapsed": false
   },
   "outputs": [
    {
     "data": {
      "image/png": "[encoded data removed]",
      "text/plain": [
       "<Figure size 1440x360 with 1 Axes>"
      ]
     },
     "metadata": {
      "needs_background": "light"
     },
     "output_type": "display_data"
    }
   ],
   "source": [
    "plot_2pfk(df, x='resnum', y='hbond_ratio_diff', save_path=f'./hbond/figures/{case_name_1}_hbond_ratio_diff.pdf')"
   ]
  },
  {
   "cell_type": "code",
   "execution_count": null,
   "metadata": {
    "collapsed": false
   },
   "outputs": [],
   "source": [
    "plot_2pfk(df, x='resnum', y='hbond_ratio_diff', save_path=f'./hbond/figures/{case_name_1}_hbond_ratio_diff.pdf')"
   ]
  },
  {
   "cell_type": "code",
   "execution_count": null,
   "metadata": {
    "collapsed": false
   },
   "outputs": [],
   "source": [
    "plot_2pfk(df, x='resnum', y='hbond_ratio_diff_smoothed',save_path=f'./hbond/figures/{case_name_1}_hbond_ratio_diff_smoothed.pdf')"
   ]
  },
  {
   "cell_type": "markdown",
   "metadata": {
    "collapsed": false
   },
   "source": [
    "# SASA_diff"
   ]
  },
  {
   "cell_type": "code",
   "execution_count": null,
   "metadata": {
    "collapsed": false
   },
   "outputs": [],
   "source": [
    "from md_utility.sasa import *"
   ]
  },
  {
   "cell_type": "code",
   "execution_count": null,
   "metadata": {
    "collapsed": false
   },
   "outputs": [],
   "source": [
    "sasa_res_1 = get_sasa_res(traj_1[1000:], case_name_1)\n",
    "sasa_df_1, sasa_mean_df_1 = parse_sasa(case_name_1, top_file_1, sasa_res_1)\n",
    "\n",
    "sasa_res_2 = get_sasa_res(traj_2[1000:], case_name_2)\n",
    "sasa_df_2, sasa_mean_df_2 = parse_sasa(case_name_2, top_file_2, sasa_res_2)"
   ]
  },
  {
   "cell_type": "code",
   "execution_count": null,
   "metadata": {
    "collapsed": false
   },
   "outputs": [],
   "source": [
    "sasa_diff = sasa_mean_df_1 - sasa_mean_df_2\n",
    "sasa_diff.reset_index(inplace=True)"
   ]
  },
  {
   "cell_type": "code",
   "execution_count": null,
   "metadata": {
    "collapsed": false
   },
   "outputs": [],
   "source": [
    "threshold = sasa_mean_df_1.describe()['sasa']['75%']\n",
    "sasa_mean_df_1.clip(upper=threshold)/threshold"
   ]
  },
  {
   "cell_type": "code",
   "execution_count": null,
   "metadata": {
    "collapsed": false
   },
   "outputs": [],
   "source": []
  },
  {
   "cell_type": "code",
   "execution_count": null,
   "metadata": {
    "collapsed": false
   },
   "outputs": [],
   "source": [
    "sasa_mean_df_1/sasa_mean_df_1.max()"
   ]
  },
  {
   "cell_type": "code",
   "execution_count": null,
   "metadata": {
    "collapsed": false
   },
   "outputs": [],
   "source": [
    "sasa_diff"
   ]
  },
  {
   "cell_type": "code",
   "execution_count": null,
   "metadata": {
    "collapsed": false
   },
   "outputs": [],
   "source": [
    "plot_2pfk(sasa_mean_df_2, x='residue', y='sasa')"
   ]
  },
  {
   "cell_type": "code",
   "execution_count": null,
   "metadata": {
    "collapsed": false
   },
   "outputs": [],
   "source": [
    "plot_2pfk( sasa_diff, x='residue', y='sasa')"
   ]
  },
  {
   "cell_type": "markdown",
   "metadata": {
    "collapsed": false
   },
   "source": [
    "# hbond combined with sasa"
   ]
  },
  {
   "cell_type": "code",
   "execution_count": null,
   "metadata": {
    "collapsed": false
   },
   "outputs": [],
   "source": [
    "def get_un_hbond_ratio_sasa(case_name, df_hbond, df_sasa):\n",
    "    u_plot = plot_on_pdb(case_name, pdb_file, df_per_res_1=df_hbond,\n",
    "                     column_name='hbond_ratio', save_pdb=False)\n",
    "    CA_atoms = u_plot.select_atoms('name CA')\n",
    "    df = pd.DataFrame({'resnum': CA_atoms.resnums, 'hbond_ratio': CA_atoms.tempfactors})\n",
    "    df = df.groupby('resnum').mean().reset_index()\n",
    "\n",
    "    df['sasa'] = df_sasa.reset_index()['sasa']\n",
    "    threshold = df.describe()['sasa']['75%']\n",
    "    df['sasa'] = df['sasa'].clip(upper=threshold)/threshold\n",
    "    df['un_hbond_ratio * sasa'] = (100 - df['hbond_ratio'])* df['sasa']/df['sasa'].max()\n",
    "    return df"
   ]
  },
  {
   "cell_type": "code",
   "execution_count": null,
   "metadata": {
    "collapsed": false
   },
   "outputs": [],
   "source": [
    "df1 = get_un_hbond_ratio_sasa(case_name_1, max_per_res_1, sasa_mean_df_1)\n",
    "\n",
    "plot_2pfk(f'./hbond/figures/{case_name_1}_un_hbond_ratio-sasa_test.pdf', df1, x='resnum', y='un_hbond_ratio * sasa')\n"
   ]
  },
  {
   "cell_type": "code",
   "execution_count": null,
   "metadata": {
    "collapsed": false
   },
   "outputs": [],
   "source": [
    "df2 = get_un_hbond_ratio_sasa(case_name_2, max_per_res_2, sasa_mean_df_2)\n",
    "plot_2pfk(f'./hbond/figures/{case_name_2}_un_hbond_ratio-test2.pdf', df2, x='resnum', y='un_hbond_ratio * sasa')\n"
   ]
  },
  {
   "cell_type": "code",
   "execution_count": null,
   "metadata": {
    "collapsed": false
   },
   "outputs": [],
   "source": [
    "sub_df = df1 - df2\n",
    "sub_df['resnum'] = df1['resnum']"
   ]
  },
  {
   "cell_type": "code",
   "execution_count": null,
   "metadata": {
    "collapsed": false
   },
   "outputs": [],
   "source": [
    "sub_df"
   ]
  },
  {
   "cell_type": "code",
   "execution_count": null,
   "metadata": {
    "collapsed": false
   },
   "outputs": [],
   "source": [
    "plot_2pfk(f'./hbond/figures/{case_name_2}_un_hbond_ratio-sasa_diff_test.pdf', sub_df , x='resnum', y='un_hbond_ratio * sasa')"
   ]
  },
  {
   "cell_type": "code",
   "execution_count": null,
   "metadata": {
    "collapsed": false
   },
   "outputs": [],
   "source": [
    "sasa_mean_df_1.loc[175]"
   ]
  },
  {
   "cell_type": "code",
   "execution_count": null,
   "metadata": {
    "collapsed": false
   },
   "outputs": [],
   "source": []
  }
 ],
 "metadata": {
  "kernelspec": {
   "display_name": "Python 3.10.4 ('MD')",
   "language": "python",
   "name": "python3"
  },
  "language_info": {
   "codemirror_mode": {
    "name": "ipython",
    "version": 3
   },
   "file_extension": ".py",
   "mimetype": "text/x-python",
   "name": "python",
   "nbconvert_exporter": "python",
   "pygments_lexer": "ipython3",
   "version": "3.10.4"
  },
  "vscode": {
   "interpreter": {
    "hash": "5887bc237414c1bd1f360d25e0e96ea42f84a643c60b529b66276dba543596a0"
   }
  }
 },
 "nbformat": 4,
 "nbformat_minor": 0
}
