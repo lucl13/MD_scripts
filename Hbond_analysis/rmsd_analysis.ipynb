{
 "cells": [
  {
   "cell_type": "code",
   "execution_count": 1,
   "metadata": {},
   "outputs": [],
   "source": [
    "import MDAnalysis as mda\n",
    "import matplotlib.pyplot as plt \n",
    "import numpy as np\n",
    "import pandas as pd\n",
    "import seaborn as sns\n",
    "from MDAnalysis.analysis import rms"
   ]
  },
  {
   "cell_type": "code",
   "execution_count": 2,
   "metadata": {
    "collapsed": false
   },
   "outputs": [
    {
     "data": {
      "text/plain": [
       "'2.3.0'"
      ]
     },
     "execution_count": 2,
     "metadata": {},
     "output_type": "execute_result"
    }
   ],
   "source": [
    "mda.__version__"
   ]
  },
  {
   "cell_type": "code",
   "execution_count": 3,
   "metadata": {
    "collapsed": false
   },
   "outputs": [],
   "source": [
    "# 2_2dri-RIP"
   ]
  },
  {
   "cell_type": "code",
   "execution_count": 4,
   "metadata": {},
   "outputs": [],
   "source": [
    "u = mda.Universe( '../2_2dri-RIP_MD/2_2dri-RIP_nowat.gro','../2_2dri-RIP_MD/2_2dri-RIP_nowat.xtc', format='XTC')"
   ]
  },
  {
   "cell_type": "code",
   "execution_count": 5,
   "metadata": {},
   "outputs": [],
   "source": [
    "top_file_1 = '../2_2dri-RIP_MD/2_2dri-RIP_nowat.gro'\n",
    "xtc_file_1 = '../2_2dri-RIP_MD/2_2dri-RIP_nowat.xtc'\n",
    "u_1 = mda.Universe(top_file_1, xtc_file_1)"
   ]
  },
  {
   "cell_type": "code",
   "execution_count": 6,
   "metadata": {},
   "outputs": [
    {
     "data": {
      "text/plain": [
       "<MDAnalysis.analysis.rms.RMSD at 0x7f349853d3f0>"
      ]
     },
     "execution_count": 6,
     "metadata": {},
     "output_type": "execute_result"
    }
   ],
   "source": [
    "R = rms.RMSD(u,  # universe to align\n",
    "             u,  # reference universe or atomgroup\n",
    "             select='backbone',  # group to superimpose and calculate RMSD\n",
    "             groupselections=['protein','resname RIP'],  # groups for RMSD\n",
    "             ref_frame=0)  # frame index of the reference\n",
    "R.run()\n",
    "\n",
    "\n"
   ]
  },
  {
   "cell_type": "code",
   "execution_count": 7,
   "metadata": {
    "collapsed": false
   },
   "outputs": [
    {
     "name": "stderr",
     "output_type": "stream",
     "text": [
      "/home/chenlin/anaconda3/envs/MD/lib/python3.10/site-packages/MDAnalysis/analysis/rms.py:718: DeprecationWarning: The `rmsd` attribute was deprecated in MDAnalysis 2.0.0 and will be removed in MDAnalysis 3.0.0. Please use `results.rmsd` instead.\n",
      "  warnings.warn(wmsg, DeprecationWarning)\n"
     ]
    },
    {
     "data": {
      "text/plain": [
       "array([[0.00000000e+00, 1.00000000e+04, 7.33121313e-07, 8.46665881e-08,\n",
       "        0.00000000e+00],\n",
       "       [1.00000000e+00, 1.00100000e+04, 6.01665931e-01, 8.75437604e-01,\n",
       "        7.93172299e-01],\n",
       "       [2.00000000e+00, 1.00200000e+04, 6.12037223e-01, 9.02540617e-01,\n",
       "        5.55958050e-01],\n",
       "       ...,\n",
       "       [4.99980000e+04, 5.09980000e+05, 1.15256996e+00, 1.95679141e+00,\n",
       "        3.90446627e-01],\n",
       "       [4.99990000e+04, 5.09990000e+05, 1.20203598e+00, 2.01449356e+00,\n",
       "        3.72727868e-01],\n",
       "       [5.00000000e+04, 5.10000000e+05, 1.12343961e+00, 1.92234175e+00,\n",
       "        3.15757480e-01]])"
      ]
     },
     "execution_count": 7,
     "metadata": {},
     "output_type": "execute_result"
    }
   ],
   "source": [
    "R.rmsd"
   ]
  },
  {
   "cell_type": "code",
   "execution_count": 8,
   "metadata": {},
   "outputs": [],
   "source": [
    "df = pd.DataFrame(R.results.rmsd,\n",
    "                  columns=['Frame', 'Time (ps)',\n",
    "                           'Backbone', 'Protein', 'RIP'])\n"
   ]
  },
  {
   "cell_type": "code",
   "execution_count": 9,
   "metadata": {
    "collapsed": false
   },
   "outputs": [
    {
     "data": {
      "text/html": [
       "<div>\n",
       "<style scoped>\n",
       "    .dataframe tbody tr th:only-of-type {\n",
       "        vertical-align: middle;\n",
       "    }\n",
       "\n",
       "    .dataframe tbody tr th {\n",
       "        vertical-align: top;\n",
       "    }\n",
       "\n",
       "    .dataframe thead th {\n",
       "        text-align: right;\n",
       "    }\n",
       "</style>\n",
       "<table border=\"1\" class=\"dataframe\">\n",
       "  <thead>\n",
       "    <tr style=\"text-align: right;\">\n",
       "      <th></th>\n",
       "      <th>Frame</th>\n",
       "      <th>Time (ps)</th>\n",
       "      <th>Backbone</th>\n",
       "      <th>Protein</th>\n",
       "      <th>RIP</th>\n",
       "    </tr>\n",
       "  </thead>\n",
       "  <tbody>\n",
       "    <tr>\n",
       "      <th>0</th>\n",
       "      <td>0.0</td>\n",
       "      <td>10000.0</td>\n",
       "      <td>7.331213e-07</td>\n",
       "      <td>8.466659e-08</td>\n",
       "      <td>0.000000</td>\n",
       "    </tr>\n",
       "    <tr>\n",
       "      <th>1</th>\n",
       "      <td>1.0</td>\n",
       "      <td>10010.0</td>\n",
       "      <td>6.016659e-01</td>\n",
       "      <td>8.754376e-01</td>\n",
       "      <td>0.793172</td>\n",
       "    </tr>\n",
       "    <tr>\n",
       "      <th>2</th>\n",
       "      <td>2.0</td>\n",
       "      <td>10020.0</td>\n",
       "      <td>6.120372e-01</td>\n",
       "      <td>9.025406e-01</td>\n",
       "      <td>0.555958</td>\n",
       "    </tr>\n",
       "    <tr>\n",
       "      <th>3</th>\n",
       "      <td>3.0</td>\n",
       "      <td>10030.0</td>\n",
       "      <td>6.347026e-01</td>\n",
       "      <td>1.003627e+00</td>\n",
       "      <td>0.397226</td>\n",
       "    </tr>\n",
       "    <tr>\n",
       "      <th>4</th>\n",
       "      <td>4.0</td>\n",
       "      <td>10040.0</td>\n",
       "      <td>7.013712e-01</td>\n",
       "      <td>1.046583e+00</td>\n",
       "      <td>0.340104</td>\n",
       "    </tr>\n",
       "    <tr>\n",
       "      <th>...</th>\n",
       "      <td>...</td>\n",
       "      <td>...</td>\n",
       "      <td>...</td>\n",
       "      <td>...</td>\n",
       "      <td>...</td>\n",
       "    </tr>\n",
       "    <tr>\n",
       "      <th>49996</th>\n",
       "      <td>49996.0</td>\n",
       "      <td>509960.0</td>\n",
       "      <td>1.256147e+00</td>\n",
       "      <td>2.037962e+00</td>\n",
       "      <td>0.359606</td>\n",
       "    </tr>\n",
       "    <tr>\n",
       "      <th>49997</th>\n",
       "      <td>49997.0</td>\n",
       "      <td>509970.0</td>\n",
       "      <td>1.175141e+00</td>\n",
       "      <td>1.987871e+00</td>\n",
       "      <td>0.506313</td>\n",
       "    </tr>\n",
       "    <tr>\n",
       "      <th>49998</th>\n",
       "      <td>49998.0</td>\n",
       "      <td>509980.0</td>\n",
       "      <td>1.152570e+00</td>\n",
       "      <td>1.956791e+00</td>\n",
       "      <td>0.390447</td>\n",
       "    </tr>\n",
       "    <tr>\n",
       "      <th>49999</th>\n",
       "      <td>49999.0</td>\n",
       "      <td>509990.0</td>\n",
       "      <td>1.202036e+00</td>\n",
       "      <td>2.014494e+00</td>\n",
       "      <td>0.372728</td>\n",
       "    </tr>\n",
       "    <tr>\n",
       "      <th>50000</th>\n",
       "      <td>50000.0</td>\n",
       "      <td>510000.0</td>\n",
       "      <td>1.123440e+00</td>\n",
       "      <td>1.922342e+00</td>\n",
       "      <td>0.315757</td>\n",
       "    </tr>\n",
       "  </tbody>\n",
       "</table>\n",
       "<p>50001 rows × 5 columns</p>\n",
       "</div>"
      ],
      "text/plain": [
       "         Frame  Time (ps)      Backbone       Protein       RIP\n",
       "0          0.0    10000.0  7.331213e-07  8.466659e-08  0.000000\n",
       "1          1.0    10010.0  6.016659e-01  8.754376e-01  0.793172\n",
       "2          2.0    10020.0  6.120372e-01  9.025406e-01  0.555958\n",
       "3          3.0    10030.0  6.347026e-01  1.003627e+00  0.397226\n",
       "4          4.0    10040.0  7.013712e-01  1.046583e+00  0.340104\n",
       "...        ...        ...           ...           ...       ...\n",
       "49996  49996.0   509960.0  1.256147e+00  2.037962e+00  0.359606\n",
       "49997  49997.0   509970.0  1.175141e+00  1.987871e+00  0.506313\n",
       "49998  49998.0   509980.0  1.152570e+00  1.956791e+00  0.390447\n",
       "49999  49999.0   509990.0  1.202036e+00  2.014494e+00  0.372728\n",
       "50000  50000.0   510000.0  1.123440e+00  1.922342e+00  0.315757\n",
       "\n",
       "[50001 rows x 5 columns]"
      ]
     },
     "execution_count": 9,
     "metadata": {},
     "output_type": "execute_result"
    }
   ],
   "source": [
    "df"
   ]
  },
  {
   "cell_type": "code",
   "execution_count": 11,
   "metadata": {
    "collapsed": false
   },
   "outputs": [
    {
     "data": {
      "text/plain": [
       "Text(0, 0.5, 'RMSD ($\\\\AA$)')"
      ]
     },
     "execution_count": 11,
     "metadata": {},
     "output_type": "execute_result"
    },
    {
     "data": {
      "image/png": "[encoded data removed]",
      "text/plain": [
       "<Figure size 432x288 with 1 Axes>"
      ]
     },
     "metadata": {
      "needs_background": "light"
     },
     "output_type": "display_data"
    }
   ],
   "source": [
    "fig, ax = plt.subplots(1, 1)\n",
    "sns.lineplot(x='Frame', y='RIP', data=df.iloc[:,:], ax=ax)\n",
    "ax.set_ylabel(r'RMSD ($\\AA$)')"
   ]
  },
  {
   "cell_type": "code",
   "execution_count": 12,
   "metadata": {},
   "outputs": [
    {
     "data": {
      "text/plain": [
       "Text(0, 0.5, 'RMSD ($\\\\AA$)')"
      ]
     },
     "execution_count": 12,
     "metadata": {},
     "output_type": "execute_result"
    },
    {
     "data": {
      "image/png": "[encoded data removed]",
      "text/plain": [
       "<Figure size 432x288 with 1 Axes>"
      ]
     },
     "metadata": {
      "needs_background": "light"
     },
     "output_type": "display_data"
    }
   ],
   "source": [
    "fig, ax = plt.subplots(1, 1)\n",
    "sns.lineplot(x='Frame', y='Protein', data=df, ax=ax)\n",
    "ax.set_ylabel(r'RMSD ($\\AA$)')"
   ]
  },
  {
   "cell_type": "code",
   "execution_count": 25,
   "metadata": {
    "collapsed": false
   },
   "outputs": [],
   "source": [
    "#apo_1urp\n",
    "u = mda.Universe( '../../MD-CL-7-1/1_apo_1urp_MD/1_apo_1urp_nowat.gro','../../MD-CL-7-1/1_apo_1urp_MD/1_apo_1urp_nowat.xtc')\n",
    "u_ref = mda.Universe( '../../MD-CL-7-1/1_apo_1urp_MD/1_apo_1urp_nowat.gro')\n",
    "R = rms.RMSD(u,  # universe to align\n",
    "             u_ref,  # reference universe or atomgroup\n",
    "             select='backbone',  # group to superimpose and calculate RMSD\n",
    "             groupselections=['protein'],  # groups for RMSD\n",
    "             ref_frame=0)  # frame index of the reference\n",
    "R.run()\n",
    "\n",
    "\n",
    "df = pd.DataFrame(R.results.rmsd,\n",
    "                  columns=['Frame', 'Time (ps)',\n",
    "                           'Backbone', 'Protein'])\n"
   ]
  },
  {
   "cell_type": "code",
   "execution_count": 26,
   "metadata": {
    "collapsed": false
   },
   "outputs": [
    {
     "data": {
      "text/plain": [
       "Text(0, 0.5, 'RMSD ($\\\\AA$)')"
      ]
     },
     "execution_count": 26,
     "metadata": {},
     "output_type": "execute_result"
    },
    {
     "data": {
      "image/png": "[encoded data removed]",
      "text/plain": [
       "<Figure size 432x288 with 1 Axes>"
      ]
     },
     "metadata": {
      "needs_background": "light"
     },
     "output_type": "display_data"
    }
   ],
   "source": [
    "fig, ax = plt.subplots(1, 1)\n",
    "sns.lineplot(x='Frame', y='Protein', data=df, ax=ax)\n",
    "ax.set_ylabel(r'RMSD ($\\AA$)')"
   ]
  },
  {
   "cell_type": "code",
   "execution_count": 19,
   "metadata": {
    "collapsed": false
   },
   "outputs": [
    {
     "ename": "SelectionError",
     "evalue": "Group selection 0: ['protein'] | ['protein']: Reference and trajectory atom selections do not contain the same number of atoms: N_ref=4059, N_traj=4060",
     "output_type": "error",
     "traceback": [
      "\u001b[0;31m---------------------------------------------------------------------------\u001b[0m",
      "\u001b[0;31mSelectionError\u001b[0m                            Traceback (most recent call last)",
      "Input \u001b[0;32mIn [19]\u001b[0m, in \u001b[0;36m<cell line: 4>\u001b[0;34m()\u001b[0m\n\u001b[1;32m      2\u001b[0m u \u001b[38;5;241m=\u001b[39m mda\u001b[38;5;241m.\u001b[39mUniverse( \u001b[38;5;124m'\u001b[39m\u001b[38;5;124m../../MD-CL-7-3/1_apo_2dri_MD/1_apo_2dri_nowat.gro\u001b[39m\u001b[38;5;124m'\u001b[39m,\u001b[38;5;124m'\u001b[39m\u001b[38;5;124m../../MD-CL-7-3/1_apo_2dri_MD/1_apo_2dri_nowat.xtc\u001b[39m\u001b[38;5;124m'\u001b[39m, \u001b[38;5;28mformat\u001b[39m\u001b[38;5;241m=\u001b[39m\u001b[38;5;124m'\u001b[39m\u001b[38;5;124mXTC\u001b[39m\u001b[38;5;124m'\u001b[39m)\n\u001b[1;32m      3\u001b[0m u_ref \u001b[38;5;241m=\u001b[39m mda\u001b[38;5;241m.\u001b[39mUniverse(\u001b[38;5;124m'\u001b[39m\u001b[38;5;124m../../MD-CL-7-1/1_apo_1urp_nowat.gro\u001b[39m\u001b[38;5;124m'\u001b[39m)\n\u001b[0;32m----> 4\u001b[0m R \u001b[38;5;241m=\u001b[39m \u001b[43mrms\u001b[49m\u001b[38;5;241;43m.\u001b[39;49m\u001b[43mRMSD\u001b[49m\u001b[43m(\u001b[49m\u001b[43mu\u001b[49m\u001b[43m,\u001b[49m\u001b[43m  \u001b[49m\u001b[38;5;66;43;03m# universe to align\u001b[39;49;00m\n\u001b[1;32m      5\u001b[0m \u001b[43m             \u001b[49m\u001b[43mu_ref\u001b[49m\u001b[43m,\u001b[49m\u001b[43m  \u001b[49m\u001b[38;5;66;43;03m# reference universe or atomgroup\u001b[39;49;00m\n\u001b[1;32m      6\u001b[0m \u001b[43m             \u001b[49m\u001b[43mselect\u001b[49m\u001b[38;5;241;43m=\u001b[39;49m\u001b[38;5;124;43m'\u001b[39;49m\u001b[38;5;124;43mbackbone\u001b[39;49m\u001b[38;5;124;43m'\u001b[39;49m\u001b[43m,\u001b[49m\u001b[43m  \u001b[49m\u001b[38;5;66;43;03m# group to superimpose and calculate RMSD\u001b[39;49;00m\n\u001b[1;32m      7\u001b[0m \u001b[43m             \u001b[49m\u001b[43mgroupselections\u001b[49m\u001b[38;5;241;43m=\u001b[39;49m\u001b[43m[\u001b[49m\u001b[38;5;124;43m'\u001b[39;49m\u001b[38;5;124;43mprotein\u001b[39;49m\u001b[38;5;124;43m'\u001b[39;49m\u001b[43m]\u001b[49m\u001b[43m,\u001b[49m\u001b[43m  \u001b[49m\u001b[38;5;66;43;03m# groups for RMSD\u001b[39;49;00m\n\u001b[1;32m      8\u001b[0m \u001b[43m             \u001b[49m\u001b[43mref_frame\u001b[49m\u001b[38;5;241;43m=\u001b[39;49m\u001b[38;5;241;43m0\u001b[39;49m\u001b[43m)\u001b[49m  \u001b[38;5;66;03m# frame index of the reference\u001b[39;00m\n\u001b[1;32m      9\u001b[0m R\u001b[38;5;241m.\u001b[39mrun()\n\u001b[1;32m     12\u001b[0m df \u001b[38;5;241m=\u001b[39m pd\u001b[38;5;241m.\u001b[39mDataFrame(R\u001b[38;5;241m.\u001b[39mresults\u001b[38;5;241m.\u001b[39mrmsd,\n\u001b[1;32m     13\u001b[0m                   columns\u001b[38;5;241m=\u001b[39m[\u001b[38;5;124m'\u001b[39m\u001b[38;5;124mFrame\u001b[39m\u001b[38;5;124m'\u001b[39m, \u001b[38;5;124m'\u001b[39m\u001b[38;5;124mTime (ps)\u001b[39m\u001b[38;5;124m'\u001b[39m,\n\u001b[1;32m     14\u001b[0m                            \u001b[38;5;124m'\u001b[39m\u001b[38;5;124mBackbone\u001b[39m\u001b[38;5;124m'\u001b[39m, \u001b[38;5;124m'\u001b[39m\u001b[38;5;124mProtein\u001b[39m\u001b[38;5;124m'\u001b[39m])\n",
      "File \u001b[0;32m~/anaconda3/envs/MD/lib/python3.10/site-packages/MDAnalysis/analysis/rms.py:564\u001b[0m, in \u001b[0;36mRMSD.__init__\u001b[0;34m(self, atomgroup, reference, select, groupselections, weights, weights_groupselections, tol_mass, ref_frame, **kwargs)\u001b[0m\n\u001b[1;32m    562\u001b[0m     \u001b[38;5;28;01mif\u001b[39;00m \u001b[38;5;28mlen\u001b[39m(atoms[\u001b[38;5;124m'\u001b[39m\u001b[38;5;124mmobile\u001b[39m\u001b[38;5;124m'\u001b[39m]) \u001b[38;5;241m!=\u001b[39m \u001b[38;5;28mlen\u001b[39m(atoms[\u001b[38;5;124m'\u001b[39m\u001b[38;5;124mreference\u001b[39m\u001b[38;5;124m'\u001b[39m]):\n\u001b[1;32m    563\u001b[0m         logger\u001b[38;5;241m.\u001b[39mexception(\u001b[38;5;124m'\u001b[39m\u001b[38;5;124mSelectionError: Group Selection\u001b[39m\u001b[38;5;124m'\u001b[39m)\n\u001b[0;32m--> 564\u001b[0m         \u001b[38;5;28;01mraise\u001b[39;00m SelectionError(\n\u001b[1;32m    565\u001b[0m             \u001b[38;5;124m\"\u001b[39m\u001b[38;5;124mGroup selection \u001b[39m\u001b[38;5;132;01m{0}\u001b[39;00m\u001b[38;5;124m: \u001b[39m\u001b[38;5;132;01m{1}\u001b[39;00m\u001b[38;5;124m | \u001b[39m\u001b[38;5;132;01m{2}\u001b[39;00m\u001b[38;5;124m: Reference and trajectory \u001b[39m\u001b[38;5;124m\"\u001b[39m\n\u001b[1;32m    566\u001b[0m             \u001b[38;5;124m\"\u001b[39m\u001b[38;5;124matom selections do not contain the same number of atoms: \u001b[39m\u001b[38;5;124m\"\u001b[39m\n\u001b[1;32m    567\u001b[0m             \u001b[38;5;124m\"\u001b[39m\u001b[38;5;124mN_ref=\u001b[39m\u001b[38;5;132;01m{3}\u001b[39;00m\u001b[38;5;124m, N_traj=\u001b[39m\u001b[38;5;132;01m{4}\u001b[39;00m\u001b[38;5;124m\"\u001b[39m\u001b[38;5;241m.\u001b[39mformat(\n\u001b[1;32m    568\u001b[0m                 igroup, sel[\u001b[38;5;124m'\u001b[39m\u001b[38;5;124mreference\u001b[39m\u001b[38;5;124m'\u001b[39m], sel[\u001b[38;5;124m'\u001b[39m\u001b[38;5;124mmobile\u001b[39m\u001b[38;5;124m'\u001b[39m],\n\u001b[1;32m    569\u001b[0m                 \u001b[38;5;28mlen\u001b[39m(atoms[\u001b[38;5;124m'\u001b[39m\u001b[38;5;124mreference\u001b[39m\u001b[38;5;124m'\u001b[39m]), \u001b[38;5;28mlen\u001b[39m(atoms[\u001b[38;5;124m'\u001b[39m\u001b[38;5;124mmobile\u001b[39m\u001b[38;5;124m'\u001b[39m])))\n\u001b[1;32m    571\u001b[0m \u001b[38;5;66;03m# check weights type\u001b[39;00m\n\u001b[1;32m    572\u001b[0m acceptable_dtypes \u001b[38;5;241m=\u001b[39m (np\u001b[38;5;241m.\u001b[39mdtype(\u001b[38;5;124m'\u001b[39m\u001b[38;5;124mfloat64\u001b[39m\u001b[38;5;124m'\u001b[39m), np\u001b[38;5;241m.\u001b[39mdtype(\u001b[38;5;124m'\u001b[39m\u001b[38;5;124mint64\u001b[39m\u001b[38;5;124m'\u001b[39m))\n",
      "\u001b[0;31mSelectionError\u001b[0m: Group selection 0: ['protein'] | ['protein']: Reference and trajectory atom selections do not contain the same number of atoms: N_ref=4059, N_traj=4060"
     ]
    }
   ],
   "source": [
    "# apo_2dri\n",
    "u = mda.Universe( '../../MD-CL-7-3/1_apo_2dri_MD/1_apo_2dri_nowat.gro','../../MD-CL-7-3/1_apo_2dri_MD/1_apo_2dri_nowat.xtc', format='XTC')\n",
    "#u_ref = mda.Universe('../../MD-CL-7-1/1_apo_1urp_nowat.gro')\n",
    "R = rms.RMSD(u,  # universe to align\n",
    "             u,  # reference universe or atomgroup\n",
    "             select='backbone',  # group to superimpose and calculate RMSD\n",
    "             groupselections=['protein'],  # groups for RMSD\n",
    "             ref_frame=0)  # frame index of the reference\n",
    "R.run()\n",
    "\n",
    "\n",
    "df = pd.DataFrame(R.results.rmsd,\n",
    "                  columns=['Frame', 'Time (ps)',\n",
    "                           'Backbone', 'Protein'])\n"
   ]
  },
  {
   "cell_type": "code",
   "execution_count": 18,
   "metadata": {
    "collapsed": false
   },
   "outputs": [
    {
     "data": {
      "text/plain": [
       "Text(0, 0.5, 'RMSD ($\\\\AA$)')"
      ]
     },
     "execution_count": 18,
     "metadata": {},
     "output_type": "execute_result"
    },
    {
     "data": {
      "image/png": "[encoded data removed]",
      "text/plain": [
       "<Figure size 432x288 with 1 Axes>"
      ]
     },
     "metadata": {
      "needs_background": "light"
     },
     "output_type": "display_data"
    }
   ],
   "source": [
    "fig, ax = plt.subplots(1, 1)\n",
    "sns.lineplot(x='Frame', y='Protein', data=df.iloc[:3000,:], ax=ax)\n",
    "ax.set_ylabel(r'RMSD ($\\AA$)')"
   ]
  },
  {
   "cell_type": "code",
   "execution_count": null,
   "metadata": {
    "collapsed": false
   },
   "outputs": [],
   "source": []
  }
 ],
 "metadata": {
  "kernelspec": {
   "display_name": "Python 3.10.4 ('MD')",
   "language": "python",
   "name": "python3"
  },
  "language_info": {
   "codemirror_mode": {
    "name": "ipython",
    "version": 3
   },
   "file_extension": ".py",
   "mimetype": "text/x-python",
   "name": "python",
   "nbconvert_exporter": "python",
   "pygments_lexer": "ipython3",
   "version": "3.10.4"
  },
  "vscode": {
   "interpreter": {
    "hash": "5887bc237414c1bd1f360d25e0e96ea42f84a643c60b529b66276dba543596a0"
   }
  }
 },
 "nbformat": 4,
 "nbformat_minor": 4
}
