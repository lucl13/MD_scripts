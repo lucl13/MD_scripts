{
 "cells": [
  {
   "cell_type": "code",
   "execution_count": 1,
   "id": "d3e3078b-7373-4abd-8b79-c207dc1825d7",
   "metadata": {},
   "outputs": [
    {
     "name": "stderr",
     "output_type": "stream",
     "text": [
      "Warning: importing 'simtk.openmm' is deprecated.  Import 'openmm' instead.\n"
     ]
    }
   ],
   "source": [
    "import mdtraj as md "
   ]
  },
  {
   "cell_type": "code",
   "execution_count": 2,
   "id": "d4af47ba-bc4a-4323-b126-c4d83440bde2",
   "metadata": {},
   "outputs": [],
   "source": [
    "t = md.load_pdb('./apo_4XYK_MD.pdb')"
   ]
  },
  {
   "cell_type": "code",
   "execution_count": 22,
   "id": "85ffaa05-ab4e-4058-a2c8-13a891569d73",
   "metadata": {},
   "outputs": [],
   "source": [
    "gmx_options = ['1\\n', '1\\n'] # force filed: charmm, water: CHARMM-modified TIP3P \n",
    "for res in t.topology.residues:\n",
    "    if res.name == 'ASP':\n",
    "        if res.resSeq in [318, 553]:\n",
    "            gmx_options.append('1\\n')\n",
    "        else:\n",
    "            gmx_options.append('0\\n')"
   ]
  },
  {
   "cell_type": "code",
   "execution_count": 25,
   "id": "d6d0182b-b5a1-473c-9360-fe1007382d76",
   "metadata": {},
   "outputs": [],
   "source": [
    "with open('pdb2gmx_option.txt','w') as f:\n",
    "    f.writelines(gmx_options)"
   ]
  },
  {
   "cell_type": "code",
   "execution_count": 26,
   "id": "317360b8-dc17-406f-bed3-47509ec78e83",
   "metadata": {},
   "outputs": [
    {
     "data": {
      "text/plain": [
       "150"
      ]
     },
     "execution_count": 26,
     "metadata": {},
     "output_type": "execute_result"
    }
   ],
   "source": [
    "len(gmx_options)"
   ]
  },
  {
   "cell_type": "code",
   "execution_count": null,
   "id": "b3cacae9-b139-4ad3-b27d-7a0be731375e",
   "metadata": {},
   "outputs": [],
   "source": []
  }
 ],
 "metadata": {
  "kernelspec": {
   "display_name": "Python 3 (ipykernel)",
   "language": "python",
   "name": "python3"
  },
  "language_info": {
   "codemirror_mode": {
    "name": "ipython",
    "version": 3
   },
   "file_extension": ".py",
   "mimetype": "text/x-python",
   "name": "python",
   "nbconvert_exporter": "python",
   "pygments_lexer": "ipython3",
   "version": "3.9.7"
  }
 },
 "nbformat": 4,
 "nbformat_minor": 5
}
