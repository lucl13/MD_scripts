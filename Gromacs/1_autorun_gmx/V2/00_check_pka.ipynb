{
 "cells": [
  {
   "cell_type": "code",
   "execution_count": 14,
   "id": "dd049558",
   "metadata": {},
   "outputs": [],
   "source": [
    "with open('2pfk_cit13_alt_k_rx_0017_low_ABCD_protein.pka') as f:\n",
    "        raw_data = f.readlines()\n"
   ]
  },
  {
   "cell_type": "code",
   "execution_count": 15,
   "id": "052eb6e0",
   "metadata": {},
   "outputs": [],
   "source": [
    "def parse_line(line):\n",
    "    line = [i for i in line.strip().split(' ') if i !='']\n",
    "    return line"
   ]
  },
  {
   "cell_type": "code",
   "execution_count": 16,
   "id": "a11d7f8b",
   "metadata": {},
   "outputs": [],
   "source": [
    "def parse_pka(raw_data):\n",
    "    data = []\n",
    "    for i,line in enumerate(raw_data):\n",
    "        parsed = parse_line(line)\n",
    "        data.append(parsed)\n",
    "        if parsed != []:\n",
    "            if parsed[0] == 'SUMMARY':\n",
    "                    start_index = i + 2\n",
    "            elif parsed[0] == 'Free':\n",
    "                    end_index = i - 2 \n",
    "                    break\n",
    "    data = data[start_index:end_index]\n",
    "    return data"
   ]
  },
  {
   "cell_type": "code",
   "execution_count": 19,
   "id": "8550408d",
   "metadata": {},
   "outputs": [],
   "source": [
    "def find_unusual_pka(data, pH=7.4):\n",
    "    for line in data:\n",
    "        if float(line[3]) < pH and pH< float(line[4]):\n",
    "            print(line)\n",
    "        elif float(line[3]) > pH and pH > float(line[4]):\n",
    "            print(line)\n",
    "    "
   ]
  },
  {
   "cell_type": "code",
   "execution_count": 20,
   "id": "634065fd",
   "metadata": {},
   "outputs": [],
   "source": [
    "data = parse_pka(raw_data)"
   ]
  },
  {
   "cell_type": "code",
   "execution_count": 21,
   "id": "c65315ba",
   "metadata": {},
   "outputs": [
    {
     "name": "stdout",
     "output_type": "stream",
     "text": [
      "['ASP', '130', 'A', '8.19', '3.80']\n",
      "['ASP', '156', 'A', '7.45', '3.80']\n",
      "['ASP', '13', 'B', '7.88', '3.80']\n",
      "['ASP', '130', 'B', '8.82', '3.80']\n",
      "['ASP', '130', 'C', '7.71', '3.80']\n",
      "['GLU', '168', 'A', '8.89', '4.50']\n",
      "['GLU', '168', 'B', '8.06', '4.50']\n",
      "['GLU', '290', 'B', '8.09', '4.50']\n",
      "['GLU', '168', 'C', '8.08', '4.50']\n",
      "['GLU', '168', 'D', '9.04', '4.50']\n",
      "['GLU', '290', 'D', '8.00', '4.50']\n",
      "['LYS', '214', 'D', '6.87', '10.50']\n"
     ]
    }
   ],
   "source": [
    "find_unusual_pka(data)"
   ]
  },
  {
   "cell_type": "code",
   "execution_count": null,
   "id": "2a54fd7f",
   "metadata": {},
   "outputs": [],
   "source": []
  }
 ],
 "metadata": {
  "kernelspec": {
   "display_name": "Python 3.9.12 ('base')",
   "language": "python",
   "name": "python3"
  },
  "language_info": {
   "codemirror_mode": {
    "name": "ipython",
    "version": 3
   },
   "file_extension": ".py",
   "mimetype": "text/x-python",
   "name": "python",
   "nbconvert_exporter": "python",
   "pygments_lexer": "ipython3",
   "version": "3.9.12"
  },
  "vscode": {
   "interpreter": {
    "hash": "d2696f2625d65cd1eab3c8dc166d884e7e0eccba9695b8cb5ccf3eb4ac0c1942"
   }
  }
 },
 "nbformat": 4,
 "nbformat_minor": 5
}
