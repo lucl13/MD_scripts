{
 "cells": [
  {
   "cell_type": "code",
   "execution_count": 20,
   "id": "dd049558",
   "metadata": {},
   "outputs": [],
   "source": [
    "with open('./1urp.pka') as f:\n",
    "        raw_data = f.readlines()\n"
   ]
  },
  {
   "cell_type": "code",
   "execution_count": 21,
   "id": "052eb6e0",
   "metadata": {},
   "outputs": [],
   "source": [
    "def parse_line(line):\n",
    "    line = [i for i in line.strip().split(' ') if i !='']\n",
    "    return line"
   ]
  },
  {
   "cell_type": "code",
   "execution_count": 22,
   "id": "a11d7f8b",
   "metadata": {},
   "outputs": [],
   "source": [
    "def parse_pka(raw_data):\n",
    "    data = []\n",
    "    for i,line in enumerate(raw_data):\n",
    "        parsed = parse_line(line)\n",
    "        data.append(parsed)\n",
    "        if parsed != []:\n",
    "            if parsed[0] == 'SUMMARY':\n",
    "                    start_index = i + 2\n",
    "            elif parsed[0] == 'Free':\n",
    "                    end_index = i - 2 \n",
    "                    break\n",
    "    data = data[start_index:end_index]\n",
    "    return data"
   ]
  },
  {
   "cell_type": "code",
   "execution_count": 23,
   "id": "8550408d",
   "metadata": {},
   "outputs": [],
   "source": [
    "def find_unusual_pka(data, pH=7.4):\n",
    "    print('Res    Resid    Chain    pKa    model-pKa')\n",
    "    for line in data:\n",
    "        if float(line[3]) < pH < float(line[4]):\n",
    "            print(line)\n",
    "        elif float(line[3]) > pH > float(line[4]):\n",
    "            print(line)\n",
    "    "
   ]
  },
  {
   "cell_type": "code",
   "execution_count": 24,
   "id": "634065fd",
   "metadata": {},
   "outputs": [],
   "source": [
    "data = parse_pka(raw_data)"
   ]
  },
  {
   "cell_type": "code",
   "execution_count": 25,
   "id": "c65315ba",
   "metadata": {},
   "outputs": [
    {
     "name": "stdout",
     "output_type": "stream",
     "text": [
      "Res    Resid    Chain    pKa    model-pKa\n",
      "['GLU', '128', 'D', '7.46', '4.50']\n",
      "['HIS', '152', 'A', '7.82', '6.50']\n",
      "['HIS', '152', 'C', '7.81', '6.50']\n",
      "['HIS', '152', 'D', '7.64', '6.50']\n"
     ]
    }
   ],
   "source": [
    "find_unusual_pka(data)"
   ]
  },
  {
   "cell_type": "code",
   "execution_count": null,
   "id": "2a54fd7f",
   "metadata": {},
   "outputs": [],
   "source": []
  }
 ],
 "metadata": {
  "kernelspec": {
   "display_name": "Python 3.9.12 ('base')",
   "language": "python",
   "name": "python3"
  },
  "language_info": {
   "codemirror_mode": {
    "name": "ipython",
    "version": 3
   },
   "file_extension": ".py",
   "mimetype": "text/x-python",
   "name": "python",
   "nbconvert_exporter": "python",
   "pygments_lexer": "ipython3",
   "version": "3.9.12"
  },
  "vscode": {
   "interpreter": {
    "hash": "d2696f2625d65cd1eab3c8dc166d884e7e0eccba9695b8cb5ccf3eb4ac0c1942"
   }
  }
 },
 "nbformat": 4,
 "nbformat_minor": 5
}
