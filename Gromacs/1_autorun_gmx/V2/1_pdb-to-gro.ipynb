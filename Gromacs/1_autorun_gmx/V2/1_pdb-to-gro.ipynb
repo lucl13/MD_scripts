{
 "cells": [
  {
   "cell_type": "code",
   "execution_count": 1,
   "id": "d3e3078b-7373-4abd-8b79-c207dc1825d7",
   "metadata": {},
   "outputs": [
    {
     "name": "stderr",
     "output_type": "stream",
     "text": [
      "Warning: importing 'simtk.openmm' is deprecated.  Import 'openmm' instead.\n"
     ]
    }
   ],
   "source": [
    "import mdtraj as md \n",
    "import subprocess"
   ]
  },
  {
   "cell_type": "code",
   "execution_count": null,
   "id": "36aa0d71",
   "metadata": {},
   "outputs": [],
   "source": [
    "def assign_protonation(md_traj, resname: str, proton_type: str, resid_list: list):\n",
    "    '''\n",
    "    ASP:\n",
    "        0. Not protonated (charge -1) (ASP)\n",
    "        1. Protonated (charge 0) (ASPP)\n",
    "    \n",
    "    HIS:\n",
    "        0. H on ND1 only (HSD)\n",
    "        1. H on NE2 only (HSE)\n",
    "        2. H on ND1 and NE2 (HSP)\n",
    "        3. Coupled to Heme (HSD)\n",
    "    '''\n",
    "    proton_options = []\n",
    "    for res in md_traj.residues:\n",
    "        if res.name == resname:\n",
    "            if res.resSeq in resid_list:\n",
    "                proton_options.append(f'{proton_type}\\n')\n",
    "            else:\n",
    "                proton_options.append('0\\n')\n",
    "    return proton_options"
   ]
  },
  {
   "cell_type": "code",
   "execution_count": 2,
   "id": "d4af47ba-bc4a-4323-b126-c4d83440bde2",
   "metadata": {},
   "outputs": [],
   "source": [
    "t = md.load_pdb('./apo_4XYJ_MD.pdb')\n",
    "gmx_options = ['1\\n', '1\\n'] # force filed: charmm, water: CHARMM-modified TIP3P \n",
    "for chain in t.topology.chains:\n",
    "    gmx_options += assign_protonation(chain, 'ASP', '1', [177, 318, 682])\n",
    "    gmx_options += assign_protonation(chain, 'HIS', '2', [208, 621, 671])"
   ]
  },
  {
   "cell_type": "code",
   "execution_count": null,
   "id": "2743ce2f",
   "metadata": {},
   "outputs": [],
   "source": [
    "# write pdb2gmx_option\n",
    "with open('pdb2gmx_option.txt','w') as f:\n",
    "    f.writelines(gmx_options)"
   ]
  },
  {
   "cell_type": "code",
   "execution_count": null,
   "id": "b3cacae9-b139-4ad3-b27d-7a0be731375e",
   "metadata": {},
   "outputs": [],
   "source": [
    "len(gmx_options)"
   ]
  },
  {
   "cell_type": "code",
   "execution_count": null,
   "id": "18254a09",
   "metadata": {},
   "outputs": [],
   "source": [
    "subprocess.run('cat pdb2gmx_option.txt | xargs -I echo| gmx pdb2gmx -f apo_4XYJ_MD.pdb -o apo_4XYJ_MD_conf.pdb -asp -his > pdb2gmx.log', shell=True)"
   ]
  }
 ],
 "metadata": {
  "kernelspec": {
   "display_name": "Python 3.8.3 ('base')",
   "language": "python",
   "name": "python3"
  },
  "language_info": {
   "codemirror_mode": {
    "name": "ipython",
    "version": 3
   },
   "file_extension": ".py",
   "mimetype": "text/x-python",
   "name": "python",
   "nbconvert_exporter": "python",
   "pygments_lexer": "ipython3",
   "version": "3.8.3"
  },
  "vscode": {
   "interpreter": {
    "hash": "24db5977c3e84ede481057a04ff7968641548534752e5fed74490ef633bae3fc"
   }
  }
 },
 "nbformat": 4,
 "nbformat_minor": 5
}
